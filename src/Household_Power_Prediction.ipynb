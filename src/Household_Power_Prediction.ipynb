{
 "cells": [
  {
   "cell_type": "markdown",
   "metadata": {},
   "source": [
    "# <center>Household Power Consumption Prediction<center/>"
   ]
  },
  {
   "cell_type": "markdown",
   "metadata": {},
   "source": [
    "### Description \n",
    "This notebook implements a an sequential model from Household Power Consumption Prediction. Model input are measurements of electric power consumption. Data was gathered from one household with a one-minute sampling rate over a period of almost 4 years.\n",
    "\n",
    "#### Data Set Information:\n",
    "\n",
    "The dataset contains 2075259 samples/measurements gathered between December 2006 and November 2010 (47 months).<br>\n",
    "**NOTE**: \n",
    "> (global_active_power*1000/60 - sub_metering_1 - sub_metering_2 - sub_metering_3) represents the active energy consumed every minute (in watt hour) in the household by electrical equipment not measured in sub-meterings 1, 2 and 3.\n",
    "\n",
    "> The dataset contains some missing values in the measurements (nearly 1,25% of the rows). All calendar timestamps are present in the dataset but for some timestamps, the measurement values are missing: a missing value is represented by the absence of value between two consecutive semi-colon attribute separators. For instance, the dataset shows missing values on April 28, 2007.\n",
    "\n",
    "**Data Attributes Information:** \n",
    "\n",
    "1. date: Date in format dd/mm/yyyy\n",
    "\n",
    "2. time: time in format hh:mm:ss\n",
    "\n",
    "3. global_active_power: household global minute-averaged active power (in kilowatt)\n",
    "\n",
    "4. global_reactive_power: household global minute-averaged reactive power (in kilowatt)\n",
    "\n",
    "5. voltage: minute-averaged voltage (in volt)\n",
    "\n",
    "6. global_intensity: household global minute-averaged current intensity (in ampere)\n",
    "\n",
    "7. sub_metering_1: energy sub-metering No. 1 (in watt-hour of active energy). It corresponds to the kitchen, containing mainly a dishwasher, an oven and a microwave (hot plates are not electric but gas powered).\n",
    "\n",
    "8. sub_metering_2: energy sub-metering No. 2 (in watt-hour of active energy). It corresponds to the laundry room, containing a washing-machine, a tumble-drier, a refrigerator and a light.\n",
    "\n",
    "9. sub_metering_3: energy sub-metering No. 3 (in watt-hour of active energy). It corresponds to an electric water-heater and an air-conditioner. <br>\n",
    "\n",
    "#### Task : \n",
    "> Predict the power consumption measurements "
   ]
  },
  {
   "cell_type": "markdown",
   "metadata": {},
   "source": [
    "### Import necessary libraries "
   ]
  },
  {
   "cell_type": "code",
   "execution_count": 1,
   "metadata": {},
   "outputs": [],
   "source": [
    "import pandas as pd\n",
    "import numpy as np\n",
    "from matplotlib import pyplot as plt\n",
    "import pandas_profiling\n",
    "from sklearn.preprocessing import StandardScaler, MinMaxScaler, RobustScaler\n",
    "from sklearn.metrics import mean_squared_error"
   ]
  },
  {
   "cell_type": "markdown",
   "metadata": {},
   "source": [
    "### Read data"
   ]
  },
  {
   "cell_type": "code",
   "execution_count": 2,
   "metadata": {},
   "outputs": [],
   "source": [
    "data_path = \"../Dataset/household_power_consumption_data.zip\"\n",
    "df = pd.read_csv(data_path, sep=';',parse_dates={'dt' : ['Date', 'Time']}, infer_datetime_format=True,\n",
    "                 low_memory=False, na_values=['nan','?'],index_col='dt')"
   ]
  },
  {
   "cell_type": "markdown",
   "metadata": {},
   "source": [
    "### Exploratory Data Analysis (optional)"
   ]
  },
  {
   "cell_type": "code",
   "execution_count": null,
   "metadata": {},
   "outputs": [],
   "source": [
    "# profile = pandas_profiling.ProfileReport(df)\n",
    "# profile.to_file(\"report.html\")\n",
    "# profile"
   ]
  },
  {
   "cell_type": "code",
   "execution_count": null,
   "metadata": {},
   "outputs": [],
   "source": [
    "# df.Global_active_power.resample('D').sum().plot(title='Global_active_power resampled over day for sum')\n",
    "# #df.Global_active_power.resample('D').mean().plot(title='Global_active_power resampled over day', color='red')\n",
    "# plt.tight_layout()\n",
    "# plt.show()"
   ]
  },
  {
   "cell_type": "markdown",
   "metadata": {},
   "source": [
    "### Preprocess Data\n",
    "Fill NaN values by average, extract features from timestamps & normalize the data"
   ]
  },
  {
   "cell_type": "code",
   "execution_count": 3,
   "metadata": {},
   "outputs": [],
   "source": [
    "#fill nan values with column average\n",
    "for j in range(0,7):\n",
    "    df.iloc[:,j]=df.iloc[:,j].fillna(df.iloc[:,j].mean())\n",
    "\n",
    "#Data reshape for LSTM method\n",
    "def reshape_for_lstm(df, lookback=1):\n",
    "    l = len(df) - lookback\n",
    "    X = df\n",
    "    y = X[lookback:]\n",
    "    res = []\n",
    "    \n",
    "    for i in range(l):\n",
    "        res.append(X[i:i+lookback])\n",
    "    return np.array(res), y\n",
    "\n",
    "#Extract features from timestamp \n",
    "def features_from_timestamp(t):\n",
    "    h = t.hour\n",
    "    idx = np.searchsorted(list(range(3,25,3)),h,side='right')\n",
    "    interval = np.arange(3,25,3)[idx]\n",
    "    if  interval == 24 : interval = 0\n",
    "    month = t.month\n",
    "    season = (month in [11,12,1,2,3]) * 1 # 0: summer, 1:  winter\n",
    "    return [h,t.day ,t.dayofweek, month , interval , season]\n",
    "\n",
    "col = [\"hour\",\"day\" ,\"dayofweek\", \"month\" , \"interval\" , \"season\"]"
   ]
  },
  {
   "cell_type": "code",
   "execution_count": 4,
   "metadata": {},
   "outputs": [
    {
     "data": {
      "text/html": [
       "<div>\n",
       "<style scoped>\n",
       "    .dataframe tbody tr th:only-of-type {\n",
       "        vertical-align: middle;\n",
       "    }\n",
       "\n",
       "    .dataframe tbody tr th {\n",
       "        vertical-align: top;\n",
       "    }\n",
       "\n",
       "    .dataframe thead th {\n",
       "        text-align: right;\n",
       "    }\n",
       "</style>\n",
       "<table border=\"1\" class=\"dataframe\">\n",
       "  <thead>\n",
       "    <tr style=\"text-align: right;\">\n",
       "      <th></th>\n",
       "      <th>Global_active_power</th>\n",
       "      <th>Global_reactive_power</th>\n",
       "      <th>Voltage</th>\n",
       "      <th>Global_intensity</th>\n",
       "      <th>Sub_metering_1</th>\n",
       "      <th>Sub_metering_2</th>\n",
       "      <th>Sub_metering_3</th>\n",
       "      <th>hour</th>\n",
       "      <th>day</th>\n",
       "      <th>dayofweek</th>\n",
       "      <th>month</th>\n",
       "      <th>interval</th>\n",
       "      <th>season</th>\n",
       "    </tr>\n",
       "    <tr>\n",
       "      <th>dt</th>\n",
       "      <th></th>\n",
       "      <th></th>\n",
       "      <th></th>\n",
       "      <th></th>\n",
       "      <th></th>\n",
       "      <th></th>\n",
       "      <th></th>\n",
       "      <th></th>\n",
       "      <th></th>\n",
       "      <th></th>\n",
       "      <th></th>\n",
       "      <th></th>\n",
       "      <th></th>\n",
       "    </tr>\n",
       "  </thead>\n",
       "  <tbody>\n",
       "    <tr>\n",
       "      <th>2010-11-26 20:58:00</th>\n",
       "      <td>0.946</td>\n",
       "      <td>0.0</td>\n",
       "      <td>240.43</td>\n",
       "      <td>4.0</td>\n",
       "      <td>0.0</td>\n",
       "      <td>0.0</td>\n",
       "      <td>0.0</td>\n",
       "      <td>20</td>\n",
       "      <td>26</td>\n",
       "      <td>4</td>\n",
       "      <td>11</td>\n",
       "      <td>21</td>\n",
       "      <td>1</td>\n",
       "    </tr>\n",
       "    <tr>\n",
       "      <th>2010-11-26 20:59:00</th>\n",
       "      <td>0.944</td>\n",
       "      <td>0.0</td>\n",
       "      <td>240.00</td>\n",
       "      <td>4.0</td>\n",
       "      <td>0.0</td>\n",
       "      <td>0.0</td>\n",
       "      <td>0.0</td>\n",
       "      <td>20</td>\n",
       "      <td>26</td>\n",
       "      <td>4</td>\n",
       "      <td>11</td>\n",
       "      <td>21</td>\n",
       "      <td>1</td>\n",
       "    </tr>\n",
       "    <tr>\n",
       "      <th>2010-11-26 21:00:00</th>\n",
       "      <td>0.938</td>\n",
       "      <td>0.0</td>\n",
       "      <td>239.82</td>\n",
       "      <td>3.8</td>\n",
       "      <td>0.0</td>\n",
       "      <td>0.0</td>\n",
       "      <td>0.0</td>\n",
       "      <td>21</td>\n",
       "      <td>26</td>\n",
       "      <td>4</td>\n",
       "      <td>11</td>\n",
       "      <td>0</td>\n",
       "      <td>1</td>\n",
       "    </tr>\n",
       "    <tr>\n",
       "      <th>2010-11-26 21:01:00</th>\n",
       "      <td>0.934</td>\n",
       "      <td>0.0</td>\n",
       "      <td>239.70</td>\n",
       "      <td>3.8</td>\n",
       "      <td>0.0</td>\n",
       "      <td>0.0</td>\n",
       "      <td>0.0</td>\n",
       "      <td>21</td>\n",
       "      <td>26</td>\n",
       "      <td>4</td>\n",
       "      <td>11</td>\n",
       "      <td>0</td>\n",
       "      <td>1</td>\n",
       "    </tr>\n",
       "    <tr>\n",
       "      <th>2010-11-26 21:02:00</th>\n",
       "      <td>0.932</td>\n",
       "      <td>0.0</td>\n",
       "      <td>239.55</td>\n",
       "      <td>3.8</td>\n",
       "      <td>0.0</td>\n",
       "      <td>0.0</td>\n",
       "      <td>0.0</td>\n",
       "      <td>21</td>\n",
       "      <td>26</td>\n",
       "      <td>4</td>\n",
       "      <td>11</td>\n",
       "      <td>0</td>\n",
       "      <td>1</td>\n",
       "    </tr>\n",
       "  </tbody>\n",
       "</table>\n",
       "</div>"
      ],
      "text/plain": [
       "                     Global_active_power  Global_reactive_power  Voltage  \\\n",
       "dt                                                                         \n",
       "2010-11-26 20:58:00                0.946                    0.0   240.43   \n",
       "2010-11-26 20:59:00                0.944                    0.0   240.00   \n",
       "2010-11-26 21:00:00                0.938                    0.0   239.82   \n",
       "2010-11-26 21:01:00                0.934                    0.0   239.70   \n",
       "2010-11-26 21:02:00                0.932                    0.0   239.55   \n",
       "\n",
       "                     Global_intensity  Sub_metering_1  Sub_metering_2  \\\n",
       "dt                                                                      \n",
       "2010-11-26 20:58:00               4.0             0.0             0.0   \n",
       "2010-11-26 20:59:00               4.0             0.0             0.0   \n",
       "2010-11-26 21:00:00               3.8             0.0             0.0   \n",
       "2010-11-26 21:01:00               3.8             0.0             0.0   \n",
       "2010-11-26 21:02:00               3.8             0.0             0.0   \n",
       "\n",
       "                     Sub_metering_3  hour  day  dayofweek  month  interval  \\\n",
       "dt                                                                           \n",
       "2010-11-26 20:58:00             0.0    20   26          4     11        21   \n",
       "2010-11-26 20:59:00             0.0    20   26          4     11        21   \n",
       "2010-11-26 21:00:00             0.0    21   26          4     11         0   \n",
       "2010-11-26 21:01:00             0.0    21   26          4     11         0   \n",
       "2010-11-26 21:02:00             0.0    21   26          4     11         0   \n",
       "\n",
       "                     season  \n",
       "dt                           \n",
       "2010-11-26 20:58:00       1  \n",
       "2010-11-26 20:59:00       1  \n",
       "2010-11-26 21:00:00       1  \n",
       "2010-11-26 21:01:00       1  \n",
       "2010-11-26 21:02:00       1  "
      ]
     },
     "execution_count": 4,
     "metadata": {},
     "output_type": "execute_result"
    }
   ],
   "source": [
    "#Generate aditional features from timestamp then append to exixting data\n",
    "additional_featues = pd.DataFrame(data = [features_from_timestamp(i) for i in df.index ],columns=col).set_index(df.index)\n",
    "data = df.merge(additional_featues,on=\"dt\")\n",
    "data.sort_index(inplace=True) #make sure data is sorted by date\n",
    "data.tail()"
   ]
  },
  {
   "cell_type": "code",
   "execution_count": 5,
   "metadata": {},
   "outputs": [
    {
     "data": {
      "text/html": [
       "<div>\n",
       "<style scoped>\n",
       "    .dataframe tbody tr th:only-of-type {\n",
       "        vertical-align: middle;\n",
       "    }\n",
       "\n",
       "    .dataframe tbody tr th {\n",
       "        vertical-align: top;\n",
       "    }\n",
       "\n",
       "    .dataframe thead th {\n",
       "        text-align: right;\n",
       "    }\n",
       "</style>\n",
       "<table border=\"1\" class=\"dataframe\">\n",
       "  <thead>\n",
       "    <tr style=\"text-align: right;\">\n",
       "      <th></th>\n",
       "      <th>Global_active_power</th>\n",
       "      <th>Global_reactive_power</th>\n",
       "      <th>Voltage</th>\n",
       "      <th>Global_intensity</th>\n",
       "      <th>Sub_metering_1</th>\n",
       "      <th>Sub_metering_2</th>\n",
       "      <th>Sub_metering_3</th>\n",
       "      <th>hour</th>\n",
       "      <th>day</th>\n",
       "      <th>dayofweek</th>\n",
       "      <th>month</th>\n",
       "      <th>interval</th>\n",
       "      <th>season</th>\n",
       "    </tr>\n",
       "    <tr>\n",
       "      <th>dt</th>\n",
       "      <th></th>\n",
       "      <th></th>\n",
       "      <th></th>\n",
       "      <th></th>\n",
       "      <th></th>\n",
       "      <th></th>\n",
       "      <th></th>\n",
       "      <th></th>\n",
       "      <th></th>\n",
       "      <th></th>\n",
       "      <th></th>\n",
       "      <th></th>\n",
       "      <th></th>\n",
       "    </tr>\n",
       "  </thead>\n",
       "  <tbody>\n",
       "    <tr>\n",
       "      <th>2006-12-16 17:24:00</th>\n",
       "      <td>4.216</td>\n",
       "      <td>0.418</td>\n",
       "      <td>234.84</td>\n",
       "      <td>18.4</td>\n",
       "      <td>0.0</td>\n",
       "      <td>1.0</td>\n",
       "      <td>17.0</td>\n",
       "      <td>17</td>\n",
       "      <td>16</td>\n",
       "      <td>5</td>\n",
       "      <td>12</td>\n",
       "      <td>18</td>\n",
       "      <td>1</td>\n",
       "    </tr>\n",
       "    <tr>\n",
       "      <th>2006-12-16 17:25:00</th>\n",
       "      <td>5.360</td>\n",
       "      <td>0.436</td>\n",
       "      <td>233.63</td>\n",
       "      <td>23.0</td>\n",
       "      <td>0.0</td>\n",
       "      <td>1.0</td>\n",
       "      <td>16.0</td>\n",
       "      <td>17</td>\n",
       "      <td>16</td>\n",
       "      <td>5</td>\n",
       "      <td>12</td>\n",
       "      <td>18</td>\n",
       "      <td>1</td>\n",
       "    </tr>\n",
       "    <tr>\n",
       "      <th>2006-12-16 17:26:00</th>\n",
       "      <td>5.374</td>\n",
       "      <td>0.498</td>\n",
       "      <td>233.29</td>\n",
       "      <td>23.0</td>\n",
       "      <td>0.0</td>\n",
       "      <td>2.0</td>\n",
       "      <td>17.0</td>\n",
       "      <td>17</td>\n",
       "      <td>16</td>\n",
       "      <td>5</td>\n",
       "      <td>12</td>\n",
       "      <td>18</td>\n",
       "      <td>1</td>\n",
       "    </tr>\n",
       "    <tr>\n",
       "      <th>2006-12-16 17:27:00</th>\n",
       "      <td>5.388</td>\n",
       "      <td>0.502</td>\n",
       "      <td>233.74</td>\n",
       "      <td>23.0</td>\n",
       "      <td>0.0</td>\n",
       "      <td>1.0</td>\n",
       "      <td>17.0</td>\n",
       "      <td>17</td>\n",
       "      <td>16</td>\n",
       "      <td>5</td>\n",
       "      <td>12</td>\n",
       "      <td>18</td>\n",
       "      <td>1</td>\n",
       "    </tr>\n",
       "    <tr>\n",
       "      <th>2006-12-16 17:28:00</th>\n",
       "      <td>3.666</td>\n",
       "      <td>0.528</td>\n",
       "      <td>235.68</td>\n",
       "      <td>15.8</td>\n",
       "      <td>0.0</td>\n",
       "      <td>1.0</td>\n",
       "      <td>17.0</td>\n",
       "      <td>17</td>\n",
       "      <td>16</td>\n",
       "      <td>5</td>\n",
       "      <td>12</td>\n",
       "      <td>18</td>\n",
       "      <td>1</td>\n",
       "    </tr>\n",
       "  </tbody>\n",
       "</table>\n",
       "</div>"
      ],
      "text/plain": [
       "                     Global_active_power  Global_reactive_power  Voltage  \\\n",
       "dt                                                                         \n",
       "2006-12-16 17:24:00                4.216                  0.418   234.84   \n",
       "2006-12-16 17:25:00                5.360                  0.436   233.63   \n",
       "2006-12-16 17:26:00                5.374                  0.498   233.29   \n",
       "2006-12-16 17:27:00                5.388                  0.502   233.74   \n",
       "2006-12-16 17:28:00                3.666                  0.528   235.68   \n",
       "\n",
       "                     Global_intensity  Sub_metering_1  Sub_metering_2  \\\n",
       "dt                                                                      \n",
       "2006-12-16 17:24:00              18.4             0.0             1.0   \n",
       "2006-12-16 17:25:00              23.0             0.0             1.0   \n",
       "2006-12-16 17:26:00              23.0             0.0             2.0   \n",
       "2006-12-16 17:27:00              23.0             0.0             1.0   \n",
       "2006-12-16 17:28:00              15.8             0.0             1.0   \n",
       "\n",
       "                     Sub_metering_3  hour  day  dayofweek  month  interval  \\\n",
       "dt                                                                           \n",
       "2006-12-16 17:24:00            17.0    17   16          5     12        18   \n",
       "2006-12-16 17:25:00            16.0    17   16          5     12        18   \n",
       "2006-12-16 17:26:00            17.0    17   16          5     12        18   \n",
       "2006-12-16 17:27:00            17.0    17   16          5     12        18   \n",
       "2006-12-16 17:28:00            17.0    17   16          5     12        18   \n",
       "\n",
       "                     season  \n",
       "dt                           \n",
       "2006-12-16 17:24:00       1  \n",
       "2006-12-16 17:25:00       1  \n",
       "2006-12-16 17:26:00       1  \n",
       "2006-12-16 17:27:00       1  \n",
       "2006-12-16 17:28:00       1  "
      ]
     },
     "execution_count": 5,
     "metadata": {},
     "output_type": "execute_result"
    }
   ],
   "source": [
    "data.head()"
   ]
  },
  {
   "cell_type": "code",
   "execution_count": 37,
   "metadata": {},
   "outputs": [
    {
     "data": {
      "text/plain": [
       "['Global_active_power',\n",
       " 'Global_reactive_power',\n",
       " 'Voltage',\n",
       " 'Global_intensity',\n",
       " 'Sub_metering_1',\n",
       " 'Sub_metering_2',\n",
       " 'Sub_metering_3',\n",
       " 'hour',\n",
       " 'day',\n",
       " 'dayofweek',\n",
       " 'month',\n",
       " 'interval',\n",
       " 'season']"
      ]
     },
     "execution_count": 37,
     "metadata": {},
     "output_type": "execute_result"
    }
   ],
   "source": [
    "#Optional : Data can be grouped using timestamps by specific time i.e 1hr, 3hrs\n",
    "# grouped_2h = df.groupby(pd.Grouper(freq='2h', base=0, label='right')).mean()\n",
    "list(data.columns)"
   ]
  },
  {
   "cell_type": "code",
   "execution_count": 7,
   "metadata": {},
   "outputs": [],
   "source": [
    "#Split data to train and test\n",
    "test = data['2010-10-26':] #one month for testing\n",
    "train = data[:'2010-10-26'] "
   ]
  },
  {
   "cell_type": "code",
   "execution_count": 8,
   "metadata": {},
   "outputs": [],
   "source": [
    "#Standardize the data\n",
    "scaler = StandardScaler()\n",
    "train = scaler.fit_transform(train.values)\n",
    "test = scaler.transform(test.values)"
   ]
  },
  {
   "cell_type": "code",
   "execution_count": 9,
   "metadata": {},
   "outputs": [],
   "source": [
    "#Prepare data for LSTM input\n",
    "lookback = 10 #look back 3hrs\n",
    "Xtrain, ytrain = reshape_for_lstm(train,lookback)\n",
    "Xtest, ytest = reshape_for_lstm(test,lookback)"
   ]
  },
  {
   "cell_type": "code",
   "execution_count": 10,
   "metadata": {},
   "outputs": [
    {
     "data": {
      "text/plain": [
       "(2030786, 10, 13)"
      ]
     },
     "execution_count": 10,
     "metadata": {},
     "output_type": "execute_result"
    }
   ],
   "source": [
    "Xtrain.shape"
   ]
  },
  {
   "cell_type": "markdown",
   "metadata": {},
   "source": [
    "### Define LSTM model"
   ]
  },
  {
   "cell_type": "code",
   "execution_count": 11,
   "metadata": {},
   "outputs": [
    {
     "name": "stderr",
     "output_type": "stream",
     "text": [
      "Using TensorFlow backend.\n"
     ]
    }
   ],
   "source": [
    "import tensorflow as tf\n",
    "import keras\n",
    "from keras.models import Sequential\n",
    "from keras.optimizers import SGD \n",
    "from keras.callbacks import EarlyStopping\n",
    "from keras.utils import np_utils\n",
    "from keras.layers import LSTM, Dropout, Dense"
   ]
  },
  {
   "cell_type": "code",
   "execution_count": 16,
   "metadata": {},
   "outputs": [],
   "source": [
    "model = Sequential()\n",
    "model.add(LSTM(10, input_shape=(Xtrain.shape[1], Xtrain.shape[2])))\n",
    "# model.add(Dropout(0.2))\n",
    "model.add(Dense(ytrain.shape[1]))\n",
    "model.compile(loss='mean_squared_error', optimizer='adam')"
   ]
  },
  {
   "cell_type": "markdown",
   "metadata": {},
   "source": [
    "### Train Model"
   ]
  },
  {
   "cell_type": "code",
   "execution_count": 17,
   "metadata": {},
   "outputs": [
    {
     "name": "stdout",
     "output_type": "stream",
     "text": [
      "Train on 1827707 samples, validate on 203079 samples\n",
      "Epoch 1/20\n",
      "1827707/1827707 [==============================] - 24s 13us/step - loss: 0.8663 - val_loss: 0.4645\n",
      "Epoch 2/20\n",
      "1827707/1827707 [==============================] - 21s 12us/step - loss: 0.5468 - val_loss: 0.3327\n",
      "Epoch 3/20\n",
      "1827707/1827707 [==============================] - 21s 12us/step - loss: 0.4112 - val_loss: 0.2652\n",
      "Epoch 4/20\n",
      "1827707/1827707 [==============================] - 24s 13us/step - loss: 0.3311 - val_loss: 0.2136\n",
      "Epoch 5/20\n",
      "1827707/1827707 [==============================] - 23s 13us/step - loss: 0.2507 - val_loss: 0.1572\n",
      "Epoch 6/20\n",
      "1827707/1827707 [==============================] - 21s 12us/step - loss: 0.1885 - val_loss: 0.1195\n",
      "Epoch 7/20\n",
      "1827707/1827707 [==============================] - 23s 12us/step - loss: 0.1542 - val_loss: 0.0990\n",
      "Epoch 8/20\n",
      "1827707/1827707 [==============================] - 34s 18us/step - loss: 0.1356 - val_loss: 0.0880\n",
      "Epoch 9/20\n",
      "1827707/1827707 [==============================] - 30s 16us/step - loss: 0.1249 - val_loss: 0.0820\n",
      "Epoch 10/20\n",
      "1827707/1827707 [==============================] - 29s 16us/step - loss: 0.1183 - val_loss: 0.0784\n",
      "Epoch 11/20\n",
      "1827707/1827707 [==============================] - 29s 16us/step - loss: 0.1140 - val_loss: 0.0762\n",
      "Epoch 12/20\n",
      "1827707/1827707 [==============================] - 27s 15us/step - loss: 0.1111 - val_loss: 0.0747\n",
      "Epoch 13/20\n",
      "1827707/1827707 [==============================] - 28s 15us/step - loss: 0.1089 - val_loss: 0.0737\n",
      "Epoch 14/20\n",
      "1827707/1827707 [==============================] - 38s 21us/step - loss: 0.1073 - val_loss: 0.0730\n",
      "Epoch 15/20\n",
      "1827707/1827707 [==============================] - 31s 17us/step - loss: 0.1060 - val_loss: 0.0725\n",
      "Epoch 16/20\n",
      "1827707/1827707 [==============================] - 39s 21us/step - loss: 0.1050 - val_loss: 0.0721\n",
      "Epoch 17/20\n",
      "1827707/1827707 [==============================] - 35s 19us/step - loss: 0.1042 - val_loss: 0.0718\n",
      "Epoch 18/20\n",
      "1827707/1827707 [==============================] - 29s 16us/step - loss: 0.1035 - val_loss: 0.0716\n",
      "Epoch 19/20\n",
      "1827707/1827707 [==============================] - 29s 16us/step - loss: 0.1029 - val_loss: 0.0714\n",
      "Epoch 20/20\n",
      "1827707/1827707 [==============================] - 26s 14us/step - loss: 0.1025 - val_loss: 0.0712\n"
     ]
    }
   ],
   "source": [
    "history = model.fit(Xtrain, ytrain, epochs=20, batch_size=7000, validation_split=0.1,\n",
    "                     verbose=1, shuffle=False)\n"
   ]
  },
  {
   "cell_type": "markdown",
   "metadata": {},
   "source": [
    "### Plot Train loss"
   ]
  },
  {
   "cell_type": "code",
   "execution_count": 35,
   "metadata": {},
   "outputs": [
    {
     "data": {
      "image/png": "[encoded data removed]",
      "text/plain": [
       "<Figure size 864x576 with 1 Axes>"
      ]
     },
     "metadata": {
      "needs_background": "light"
     },
     "output_type": "display_data"
    }
   ],
   "source": [
    "from matplotlib import pyplot as plt\n",
    "%matplotlib inline\n",
    "\n",
    "plt.figure(figsize=(12,8))\n",
    "plt.plot(history.epoch,history.history['loss'])\n",
    "plt.plot(history.epoch,history.history['val_loss'])\n",
    "plt.title('model loss')\n",
    "plt.ylabel('loss')\n",
    "plt.xlabel('epoch')\n",
    "plt.legend(['train', 'test'], loc='upper right')\n",
    "plt.show()"
   ]
  },
  {
   "cell_type": "markdown",
   "metadata": {},
   "source": [
    "### Evaluate model Performance "
   ]
  },
  {
   "cell_type": "code",
   "execution_count": 33,
   "metadata": {},
   "outputs": [],
   "source": [
    "yhat = model.predict(Xtest)\n",
    "mse = mean_squared_error(yhat,ytest)"
   ]
  },
  {
   "cell_type": "code",
   "execution_count": 34,
   "metadata": {},
   "outputs": [
    {
     "name": "stdout",
     "output_type": "stream",
     "text": [
      "MSE : 0.16564021608753038\n"
     ]
    }
   ],
   "source": [
    "print('MSE : {}'.format(mse))"
   ]
  },
  {
   "cell_type": "code",
   "execution_count": null,
   "metadata": {},
   "outputs": [],
   "source": []
  }
 ],
 "metadata": {
  "kernelspec": {
   "display_name": "Python 3",
   "language": "python",
   "name": "python3"
  },
  "language_info": {
   "codemirror_mode": {
    "name": "ipython",
    "version": 3
   },
   "file_extension": ".py",
   "mimetype": "text/x-python",
   "name": "python",
   "nbconvert_exporter": "python",
   "pygments_lexer": "ipython3",
   "version": "3.6.5"
  }
 },
 "nbformat": 4,
 "nbformat_minor": 2
}

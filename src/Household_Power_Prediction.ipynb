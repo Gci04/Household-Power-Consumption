{
  "nbformat": 4,
  "nbformat_minor": 0,
  "metadata": {
    "kernelspec": {
      "name": "python3",
      "display_name": "Python 3"
    },
    "language_info": {
      "codemirror_mode": {
        "name": "ipython",
        "version": 3
      },
      "file_extension": ".py",
      "mimetype": "text/x-python",
      "name": "python",
      "nbconvert_exporter": "python",
      "pygments_lexer": "ipython3",
      "version": "3.6.5"
    },
    "colab": {
      "name": "Household_Power_Prediction.ipynb",
      "provenance": [],
      "toc_visible": true
    },
    "accelerator": "GPU"
  },
  "cells": [
    {
      "cell_type": "markdown",
      "metadata": {
        "id": "ireUoEJVkZCf",
        "colab_type": "text"
      },
      "source": [
        "# <center>Household Power Consumption Prediction<center/>"
      ]
    },
    {
      "cell_type": "markdown",
      "metadata": {
        "id": "L4pv3pNZkZCh",
        "colab_type": "text"
      },
      "source": [
        "### Description \n",
        "This notebook implements a an sequential model from Household Power Consumption Prediction. Model input are measurements of electric power consumption. Data was gathered from one household with a one-minute sampling rate over a period of almost 4 years.\n",
        "\n",
        "#### Data Set Information:\n",
        "\n",
        "The dataset contains 2075259 samples/measurements gathered between December 2006 and November 2010 (47 months).<br>\n",
        "**NOTE**: \n",
        "> (global_active_power*1000/60 - sub_metering_1 - sub_metering_2 - sub_metering_3) represents the active energy consumed every minute (in watt hour) in the household by electrical equipment not measured in sub-meterings 1, 2 and 3.\n",
        "\n",
        "> The dataset contains some missing values in the measurements (nearly 1,25% of the rows). All calendar timestamps are present in the dataset but for some timestamps, the measurement values are missing: a missing value is represented by the absence of value between two consecutive semi-colon attribute separators. For instance, the dataset shows missing values on April 28, 2007.\n",
        "\n",
        "**Data Attributes Information:** \n",
        "\n",
        "1. date: Date in format dd/mm/yyyy\n",
        "\n",
        "2. time: time in format hh:mm:ss\n",
        "\n",
        "3. global_active_power: household global minute-averaged active power (in kilowatt)\n",
        "\n",
        "4. global_reactive_power: household global minute-averaged reactive power (in kilowatt)\n",
        "\n",
        "5. voltage: minute-averaged voltage (in volt)\n",
        "\n",
        "6. global_intensity: household global minute-averaged current intensity (in ampere)\n",
        "\n",
        "7. sub_metering_1: energy sub-metering No. 1 (in watt-hour of active energy). It corresponds to the kitchen, containing mainly a dishwasher, an oven and a microwave (hot plates are not electric but gas powered).\n",
        "\n",
        "8. sub_metering_2: energy sub-metering No. 2 (in watt-hour of active energy). It corresponds to the laundry room, containing a washing-machine, a tumble-drier, a refrigerator and a light.\n",
        "\n",
        "9. sub_metering_3: energy sub-metering No. 3 (in watt-hour of active energy). It corresponds to an electric water-heater and an air-conditioner. <br>\n",
        "\n",
        "#### Task : \n",
        "> Predict the power consumption measurements "
      ]
    },
    {
      "cell_type": "markdown",
      "metadata": {
        "id": "8Zvape09kZCi",
        "colab_type": "text"
      },
      "source": [
        "### Import necessary libraries "
      ]
    },
    {
      "cell_type": "code",
      "metadata": {
        "id": "NPwyHooekZCl",
        "colab_type": "code",
        "colab": {}
      },
      "source": [
        "import pandas as pd\n",
        "import numpy as np\n",
        "from matplotlib import pyplot as plt\n",
        "import pandas_profiling\n",
        "from sklearn.preprocessing import StandardScaler, MinMaxScaler, RobustScaler\n",
        "from sklearn.metrics import mean_squared_error"
      ],
      "execution_count": 0,
      "outputs": []
    },
    {
      "cell_type": "markdown",
      "metadata": {
        "id": "0c9np2jWkZCs",
        "colab_type": "text"
      },
      "source": [
        "### Read data"
      ]
    },
    {
      "cell_type": "code",
      "metadata": {
        "id": "5LHzd4MEkZCu",
        "colab_type": "code",
        "colab": {}
      },
      "source": [
        "data_path = \"./foo.zip\"\n",
        "df = pd.read_csv(data_path, sep=';',parse_dates={'dt' : ['Date', 'Time']}, infer_datetime_format=True,\n",
        "                 low_memory=False, na_values=['nan','?'],index_col='dt')\n",
        "df.drop([\"Global_active_power\",\"Global_reactive_power\",\"Voltage\",\"Global_intensity\"],axis=1,inplace=True)"
      ],
      "execution_count": 0,
      "outputs": []
    },
    {
      "cell_type": "code",
      "metadata": {
        "id": "_t2PzlH7wDjy",
        "colab_type": "code",
        "colab": {
          "base_uri": "https://localhost:8080/",
          "height": 235
        },
        "outputId": "878bdb5d-bde5-46e3-a454-1f4e3cc530cb"
      },
      "source": [
        "df.head()"
      ],
      "execution_count": 3,
      "outputs": [
        {
          "output_type": "execute_result",
          "data": {
            "text/html": [
              "<div>\n",
              "<style scoped>\n",
              "    .dataframe tbody tr th:only-of-type {\n",
              "        vertical-align: middle;\n",
              "    }\n",
              "\n",
              "    .dataframe tbody tr th {\n",
              "        vertical-align: top;\n",
              "    }\n",
              "\n",
              "    .dataframe thead th {\n",
              "        text-align: right;\n",
              "    }\n",
              "</style>\n",
              "<table border=\"1\" class=\"dataframe\">\n",
              "  <thead>\n",
              "    <tr style=\"text-align: right;\">\n",
              "      <th></th>\n",
              "      <th>Sub_metering_1</th>\n",
              "      <th>Sub_metering_2</th>\n",
              "      <th>Sub_metering_3</th>\n",
              "    </tr>\n",
              "    <tr>\n",
              "      <th>dt</th>\n",
              "      <th></th>\n",
              "      <th></th>\n",
              "      <th></th>\n",
              "    </tr>\n",
              "  </thead>\n",
              "  <tbody>\n",
              "    <tr>\n",
              "      <th>2006-12-16 17:24:00</th>\n",
              "      <td>0.0</td>\n",
              "      <td>1.0</td>\n",
              "      <td>17.0</td>\n",
              "    </tr>\n",
              "    <tr>\n",
              "      <th>2006-12-16 17:25:00</th>\n",
              "      <td>0.0</td>\n",
              "      <td>1.0</td>\n",
              "      <td>16.0</td>\n",
              "    </tr>\n",
              "    <tr>\n",
              "      <th>2006-12-16 17:26:00</th>\n",
              "      <td>0.0</td>\n",
              "      <td>2.0</td>\n",
              "      <td>17.0</td>\n",
              "    </tr>\n",
              "    <tr>\n",
              "      <th>2006-12-16 17:27:00</th>\n",
              "      <td>0.0</td>\n",
              "      <td>1.0</td>\n",
              "      <td>17.0</td>\n",
              "    </tr>\n",
              "    <tr>\n",
              "      <th>2006-12-16 17:28:00</th>\n",
              "      <td>0.0</td>\n",
              "      <td>1.0</td>\n",
              "      <td>17.0</td>\n",
              "    </tr>\n",
              "  </tbody>\n",
              "</table>\n",
              "</div>"
            ],
            "text/plain": [
              "                     Sub_metering_1  Sub_metering_2  Sub_metering_3\n",
              "dt                                                                 \n",
              "2006-12-16 17:24:00             0.0             1.0            17.0\n",
              "2006-12-16 17:25:00             0.0             1.0            16.0\n",
              "2006-12-16 17:26:00             0.0             2.0            17.0\n",
              "2006-12-16 17:27:00             0.0             1.0            17.0\n",
              "2006-12-16 17:28:00             0.0             1.0            17.0"
            ]
          },
          "metadata": {
            "tags": []
          },
          "execution_count": 3
        }
      ]
    },
    {
      "cell_type": "markdown",
      "metadata": {
        "id": "Jiqyu_iMkZC0",
        "colab_type": "text"
      },
      "source": [
        "### Exploratory Data Analysis (optional)"
      ]
    },
    {
      "cell_type": "code",
      "metadata": {
        "id": "joBfJXorkZC2",
        "colab_type": "code",
        "colab": {}
      },
      "source": [
        "# profile = pandas_profiling.ProfileReport(df)\n",
        "# profile.to_file(\"report.html\")\n",
        "# profile"
      ],
      "execution_count": 0,
      "outputs": []
    },
    {
      "cell_type": "code",
      "metadata": {
        "id": "ELtKTdW9kZC8",
        "colab_type": "code",
        "colab": {}
      },
      "source": [
        "# df.Global_active_power.resample('D').sum().plot(title='Global_active_power resampled over day for sum')\n",
        "# #df.Global_active_power.resample('D').mean().plot(title='Global_active_power resampled over day', color='red')\n",
        "# plt.tight_layout()\n",
        "# plt.show()"
      ],
      "execution_count": 0,
      "outputs": []
    },
    {
      "cell_type": "markdown",
      "metadata": {
        "id": "brZk7BhIkZDC",
        "colab_type": "text"
      },
      "source": [
        "### Preprocess Data\n",
        "Fill NaN values by average, extract features from timestamps & normalize the data"
      ]
    },
    {
      "cell_type": "code",
      "metadata": {
        "id": "dawmZ7CbkZDE",
        "colab_type": "code",
        "colab": {}
      },
      "source": [
        "#fill nan values with column average\n",
        "for j in range(0,3):\n",
        "    df.iloc[:,j]=df.iloc[:,j].fillna(df.iloc[:,j].mean())\n",
        "\n",
        "#Data reshape for LSTM method\n",
        "def reshape_for_lstm(df, lookback=1):\n",
        "    l = len(df) - lookback\n",
        "    X = df\n",
        "    y = X[lookback:]\n",
        "    res = []\n",
        "    \n",
        "    for i in range(l):\n",
        "        res.append(X[i:i+lookback])\n",
        "    return np.array(res), y\n",
        "\n",
        "#Extract features from timestamp \n",
        "def features_from_timestamp(t):\n",
        "    # h = t.hour\n",
        "    # idx = np.searchsorted(list(range(3,25,3)),h,side='right')\n",
        "    # interval = np.arange(3,25,3)[idx]\n",
        "    # if  interval == 24 : interval = 0\n",
        "    month = t.month\n",
        "    season = (month in [11,12,1,2,3]) * 1 # 0: summer, 1:  winter\n",
        "    return [t.day ,t.dayofweek, month  , season]\n",
        "\n",
        "    # return [h,t.day ,t.dayofweek, month , interval , season]\n",
        "\n",
        "# col = [\"hour\",\"day\" ,\"dayofweek\", \"month\" , \"interval\" , \"season\"]\n",
        "col = [\"day\" ,\"dayofweek\", \"month\" , \"season\"]"
      ],
      "execution_count": 0,
      "outputs": []
    },
    {
      "cell_type": "code",
      "metadata": {
        "id": "fy4lNnLSkZDV",
        "colab_type": "code",
        "colab": {}
      },
      "source": [
        "#Optional : Data can be grouped using timestamps by specific time i.e 1hr, 3hrs\n",
        "# grouped_24h = df.groupby(pd.Grouper(freq='24h', base=0, label='right')).mean()\n",
        "\n",
        "grouped_max = df.groupby(pd.Grouper(freq='24h', base=0, label='right')).max()\n",
        "grouped_mean = df.groupby(pd.Grouper(freq='24h', base=0, label='right')).mean()\n",
        "grouped_min = df.groupby(pd.Grouper(freq='24h', base=0, label='right')).min()\n",
        "# list(data.columns)\n",
        "# grouped_24h.head()"
      ],
      "execution_count": 0,
      "outputs": []
    },
    {
      "cell_type": "code",
      "metadata": {
        "id": "FpkpYhTYyxIu",
        "colab_type": "code",
        "colab": {
          "base_uri": "https://localhost:8080/",
          "height": 340
        },
        "outputId": "222dbb1a-271a-4801-c77b-61d1eeff4593"
      },
      "source": [
        "grouped_mean.rename(columns={\"Sub_metering_1\": \"Sub_metering_1_mean\",\"Sub_metering_2\": \"Sub_metering_2_mean\",\\\n",
        "                     \"Sub_metering_3\": \"Sub_metering_3_mean\"},inplace=True)\n",
        "grouped_max.rename(columns={\"Sub_metering_1\": \"Sub_metering_1_max\",\"Sub_metering_2\": \"Sub_metering_2_max\",\\\n",
        "                     \"Sub_metering_3\": \"Sub_metering_3_max\"},inplace=True)\n",
        "grouped_min.rename(columns={\"Sub_metering_1\": \"Sub_metering_1_min\",\"Sub_metering_2\": \"Sub_metering_2_min\",\\\n",
        "                     \"Sub_metering_3\": \"Sub_metering_3_min\"},inplace=True)\n",
        "\n",
        "data =  grouped_mean.merge(grouped_max,on='dt').merge(grouped_min,on='dt')\n",
        "data.sort_index(inplace=True) #make sure data is sorted by date\n",
        "data.tail()"
      ],
      "execution_count": 8,
      "outputs": [
        {
          "output_type": "execute_result",
          "data": {
            "text/html": [
              "<div>\n",
              "<style scoped>\n",
              "    .dataframe tbody tr th:only-of-type {\n",
              "        vertical-align: middle;\n",
              "    }\n",
              "\n",
              "    .dataframe tbody tr th {\n",
              "        vertical-align: top;\n",
              "    }\n",
              "\n",
              "    .dataframe thead th {\n",
              "        text-align: right;\n",
              "    }\n",
              "</style>\n",
              "<table border=\"1\" class=\"dataframe\">\n",
              "  <thead>\n",
              "    <tr style=\"text-align: right;\">\n",
              "      <th></th>\n",
              "      <th>Sub_metering_1_mean</th>\n",
              "      <th>Sub_metering_2_mean</th>\n",
              "      <th>Sub_metering_3_mean</th>\n",
              "      <th>Sub_metering_1_max</th>\n",
              "      <th>Sub_metering_2_max</th>\n",
              "      <th>Sub_metering_3_max</th>\n",
              "      <th>Sub_metering_1_min</th>\n",
              "      <th>Sub_metering_2_min</th>\n",
              "      <th>Sub_metering_3_min</th>\n",
              "    </tr>\n",
              "    <tr>\n",
              "      <th>dt</th>\n",
              "      <th></th>\n",
              "      <th></th>\n",
              "      <th></th>\n",
              "      <th></th>\n",
              "      <th></th>\n",
              "      <th></th>\n",
              "      <th></th>\n",
              "      <th></th>\n",
              "      <th></th>\n",
              "    </tr>\n",
              "  </thead>\n",
              "  <tbody>\n",
              "    <tr>\n",
              "      <th>2010-11-23</th>\n",
              "      <td>3.371528</td>\n",
              "      <td>1.465278</td>\n",
              "      <td>7.038889</td>\n",
              "      <td>57.0</td>\n",
              "      <td>39.0</td>\n",
              "      <td>19.0</td>\n",
              "      <td>0.0</td>\n",
              "      <td>0.0</td>\n",
              "      <td>0.0</td>\n",
              "    </tr>\n",
              "    <tr>\n",
              "      <th>2010-11-24</th>\n",
              "      <td>1.299306</td>\n",
              "      <td>0.318056</td>\n",
              "      <td>5.285417</td>\n",
              "      <td>47.0</td>\n",
              "      <td>2.0</td>\n",
              "      <td>19.0</td>\n",
              "      <td>0.0</td>\n",
              "      <td>0.0</td>\n",
              "      <td>0.0</td>\n",
              "    </tr>\n",
              "    <tr>\n",
              "      <th>2010-11-25</th>\n",
              "      <td>0.761111</td>\n",
              "      <td>1.977778</td>\n",
              "      <td>8.488889</td>\n",
              "      <td>38.0</td>\n",
              "      <td>40.0</td>\n",
              "      <td>19.0</td>\n",
              "      <td>0.0</td>\n",
              "      <td>0.0</td>\n",
              "      <td>0.0</td>\n",
              "    </tr>\n",
              "    <tr>\n",
              "      <th>2010-11-26</th>\n",
              "      <td>0.747222</td>\n",
              "      <td>0.295833</td>\n",
              "      <td>3.522222</td>\n",
              "      <td>38.0</td>\n",
              "      <td>2.0</td>\n",
              "      <td>19.0</td>\n",
              "      <td>0.0</td>\n",
              "      <td>0.0</td>\n",
              "      <td>0.0</td>\n",
              "    </tr>\n",
              "    <tr>\n",
              "      <th>2010-11-27</th>\n",
              "      <td>0.855107</td>\n",
              "      <td>0.304830</td>\n",
              "      <td>7.908947</td>\n",
              "      <td>38.0</td>\n",
              "      <td>2.0</td>\n",
              "      <td>19.0</td>\n",
              "      <td>0.0</td>\n",
              "      <td>0.0</td>\n",
              "      <td>0.0</td>\n",
              "    </tr>\n",
              "  </tbody>\n",
              "</table>\n",
              "</div>"
            ],
            "text/plain": [
              "            Sub_metering_1_mean  ...  Sub_metering_3_min\n",
              "dt                               ...                    \n",
              "2010-11-23             3.371528  ...                 0.0\n",
              "2010-11-24             1.299306  ...                 0.0\n",
              "2010-11-25             0.761111  ...                 0.0\n",
              "2010-11-26             0.747222  ...                 0.0\n",
              "2010-11-27             0.855107  ...                 0.0\n",
              "\n",
              "[5 rows x 9 columns]"
            ]
          },
          "metadata": {
            "tags": []
          },
          "execution_count": 8
        }
      ]
    },
    {
      "cell_type": "code",
      "metadata": {
        "id": "FF0ytcDOkZDL",
        "colab_type": "code",
        "colab": {}
      },
      "source": [
        "#Generate aditional features from timestamp then append to exixting data\n",
        "# additional_featues = pd.DataFrame(data = [features_from_timestamp(i) for i in df.index ],columns=col).set_index(df.index)\n",
        "# data = df.merge(additional_featues,on=\"dt\")\n",
        "# data.sort_index(inplace=True) #make sure data is sorted by date\n",
        "# data.tail()"
      ],
      "execution_count": 0,
      "outputs": []
    },
    {
      "cell_type": "code",
      "metadata": {
        "id": "L8oFKx7RkZDR",
        "colab_type": "code",
        "colab": {
          "base_uri": "https://localhost:8080/",
          "height": 235
        },
        "outputId": "363239a8-23f3-4589-a413-6b44ee78548a"
      },
      "source": [
        "df.head()"
      ],
      "execution_count": 10,
      "outputs": [
        {
          "output_type": "execute_result",
          "data": {
            "text/html": [
              "<div>\n",
              "<style scoped>\n",
              "    .dataframe tbody tr th:only-of-type {\n",
              "        vertical-align: middle;\n",
              "    }\n",
              "\n",
              "    .dataframe tbody tr th {\n",
              "        vertical-align: top;\n",
              "    }\n",
              "\n",
              "    .dataframe thead th {\n",
              "        text-align: right;\n",
              "    }\n",
              "</style>\n",
              "<table border=\"1\" class=\"dataframe\">\n",
              "  <thead>\n",
              "    <tr style=\"text-align: right;\">\n",
              "      <th></th>\n",
              "      <th>Sub_metering_1</th>\n",
              "      <th>Sub_metering_2</th>\n",
              "      <th>Sub_metering_3</th>\n",
              "    </tr>\n",
              "    <tr>\n",
              "      <th>dt</th>\n",
              "      <th></th>\n",
              "      <th></th>\n",
              "      <th></th>\n",
              "    </tr>\n",
              "  </thead>\n",
              "  <tbody>\n",
              "    <tr>\n",
              "      <th>2006-12-16 17:24:00</th>\n",
              "      <td>0.0</td>\n",
              "      <td>1.0</td>\n",
              "      <td>17.0</td>\n",
              "    </tr>\n",
              "    <tr>\n",
              "      <th>2006-12-16 17:25:00</th>\n",
              "      <td>0.0</td>\n",
              "      <td>1.0</td>\n",
              "      <td>16.0</td>\n",
              "    </tr>\n",
              "    <tr>\n",
              "      <th>2006-12-16 17:26:00</th>\n",
              "      <td>0.0</td>\n",
              "      <td>2.0</td>\n",
              "      <td>17.0</td>\n",
              "    </tr>\n",
              "    <tr>\n",
              "      <th>2006-12-16 17:27:00</th>\n",
              "      <td>0.0</td>\n",
              "      <td>1.0</td>\n",
              "      <td>17.0</td>\n",
              "    </tr>\n",
              "    <tr>\n",
              "      <th>2006-12-16 17:28:00</th>\n",
              "      <td>0.0</td>\n",
              "      <td>1.0</td>\n",
              "      <td>17.0</td>\n",
              "    </tr>\n",
              "  </tbody>\n",
              "</table>\n",
              "</div>"
            ],
            "text/plain": [
              "                     Sub_metering_1  Sub_metering_2  Sub_metering_3\n",
              "dt                                                                 \n",
              "2006-12-16 17:24:00             0.0             1.0            17.0\n",
              "2006-12-16 17:25:00             0.0             1.0            16.0\n",
              "2006-12-16 17:26:00             0.0             2.0            17.0\n",
              "2006-12-16 17:27:00             0.0             1.0            17.0\n",
              "2006-12-16 17:28:00             0.0             1.0            17.0"
            ]
          },
          "metadata": {
            "tags": []
          },
          "execution_count": 10
        }
      ]
    },
    {
      "cell_type": "code",
      "metadata": {
        "id": "Tmc7bjEVnu-z",
        "colab_type": "code",
        "colab": {
          "base_uri": "https://localhost:8080/",
          "height": 235
        },
        "outputId": "cef15025-13e0-4b1b-aeb4-2dadb4d96e24"
      },
      "source": [
        "grouped_24h_sum = df.groupby(pd.Grouper(freq='24h', base=0, label='right')).sum()\n",
        "grouped_24h_sum.head()"
      ],
      "execution_count": 11,
      "outputs": [
        {
          "output_type": "execute_result",
          "data": {
            "text/html": [
              "<div>\n",
              "<style scoped>\n",
              "    .dataframe tbody tr th:only-of-type {\n",
              "        vertical-align: middle;\n",
              "    }\n",
              "\n",
              "    .dataframe tbody tr th {\n",
              "        vertical-align: top;\n",
              "    }\n",
              "\n",
              "    .dataframe thead th {\n",
              "        text-align: right;\n",
              "    }\n",
              "</style>\n",
              "<table border=\"1\" class=\"dataframe\">\n",
              "  <thead>\n",
              "    <tr style=\"text-align: right;\">\n",
              "      <th></th>\n",
              "      <th>Sub_metering_1</th>\n",
              "      <th>Sub_metering_2</th>\n",
              "      <th>Sub_metering_3</th>\n",
              "    </tr>\n",
              "    <tr>\n",
              "      <th>dt</th>\n",
              "      <th></th>\n",
              "      <th></th>\n",
              "      <th></th>\n",
              "    </tr>\n",
              "  </thead>\n",
              "  <tbody>\n",
              "    <tr>\n",
              "      <th>2006-12-17</th>\n",
              "      <td>0.0</td>\n",
              "      <td>546.0</td>\n",
              "      <td>4926.0</td>\n",
              "    </tr>\n",
              "    <tr>\n",
              "      <th>2006-12-18</th>\n",
              "      <td>2033.0</td>\n",
              "      <td>4187.0</td>\n",
              "      <td>13341.0</td>\n",
              "    </tr>\n",
              "    <tr>\n",
              "      <th>2006-12-19</th>\n",
              "      <td>1063.0</td>\n",
              "      <td>2621.0</td>\n",
              "      <td>14018.0</td>\n",
              "    </tr>\n",
              "    <tr>\n",
              "      <th>2006-12-20</th>\n",
              "      <td>839.0</td>\n",
              "      <td>7602.0</td>\n",
              "      <td>6197.0</td>\n",
              "    </tr>\n",
              "    <tr>\n",
              "      <th>2006-12-21</th>\n",
              "      <td>0.0</td>\n",
              "      <td>2648.0</td>\n",
              "      <td>14063.0</td>\n",
              "    </tr>\n",
              "  </tbody>\n",
              "</table>\n",
              "</div>"
            ],
            "text/plain": [
              "            Sub_metering_1  Sub_metering_2  Sub_metering_3\n",
              "dt                                                        \n",
              "2006-12-17             0.0           546.0          4926.0\n",
              "2006-12-18          2033.0          4187.0         13341.0\n",
              "2006-12-19          1063.0          2621.0         14018.0\n",
              "2006-12-20           839.0          7602.0          6197.0\n",
              "2006-12-21             0.0          2648.0         14063.0"
            ]
          },
          "metadata": {
            "tags": []
          },
          "execution_count": 11
        }
      ]
    },
    {
      "cell_type": "code",
      "metadata": {
        "id": "IAzoRq5TkZDb",
        "colab_type": "code",
        "colab": {}
      },
      "source": [
        "#Split data to train and test\n",
        "test = data['2010-10-26':] #one month for testing\n",
        "train = data[:'2010-10-26'] "
      ],
      "execution_count": 0,
      "outputs": []
    },
    {
      "cell_type": "code",
      "metadata": {
        "id": "VENcMxvskZDf",
        "colab_type": "code",
        "colab": {}
      },
      "source": [
        "#Standardize the data\n",
        "scaler = StandardScaler()\n",
        "train = scaler.fit_transform(train.values)\n",
        "test = scaler.transform(test.values)"
      ],
      "execution_count": 0,
      "outputs": []
    },
    {
      "cell_type": "code",
      "metadata": {
        "id": "WiFMtVT3kZDk",
        "colab_type": "code",
        "colab": {}
      },
      "source": [
        "#Prepare data for LSTM input\n",
        "lookback = 5 #look back 5 days\n",
        "Xtrain, ytrain = reshape_for_lstm(train,lookback)\n",
        "Xtest, ytest = reshape_for_lstm(test,lookback)"
      ],
      "execution_count": 0,
      "outputs": []
    },
    {
      "cell_type": "code",
      "metadata": {
        "id": "fwePoqxpkZDn",
        "colab_type": "code",
        "colab": {
          "base_uri": "https://localhost:8080/",
          "height": 34
        },
        "outputId": "8e0aacd7-a690-4453-8847-654c48b42bf9"
      },
      "source": [
        "Xtrain.shape"
      ],
      "execution_count": 15,
      "outputs": [
        {
          "output_type": "execute_result",
          "data": {
            "text/plain": [
              "(1405, 5, 9)"
            ]
          },
          "metadata": {
            "tags": []
          },
          "execution_count": 15
        }
      ]
    },
    {
      "cell_type": "markdown",
      "metadata": {
        "id": "nHut2INIkZDr",
        "colab_type": "text"
      },
      "source": [
        "### Define LSTM model"
      ]
    },
    {
      "cell_type": "code",
      "metadata": {
        "id": "tc_VeGVTkZDs",
        "colab_type": "code",
        "colab": {
          "base_uri": "https://localhost:8080/",
          "height": 80
        },
        "outputId": "bf9ce27d-748a-4f7c-b583-fe79aa5897bb"
      },
      "source": [
        "import tensorflow as tf\n",
        "import keras\n",
        "from keras.models import Sequential\n",
        "from keras.optimizers import SGD \n",
        "from keras.callbacks import EarlyStopping\n",
        "from keras.utils import np_utils\n",
        "from keras.layers import LSTM, Dropout, Dense"
      ],
      "execution_count": 16,
      "outputs": [
        {
          "output_type": "display_data",
          "data": {
            "text/html": [
              "<p style=\"color: red;\">\n",
              "The default version of TensorFlow in Colab will soon switch to TensorFlow 2.x.<br>\n",
              "We recommend you <a href=\"https://www.tensorflow.org/guide/migrate\" target=\"_blank\">upgrade</a> now \n",
              "or ensure your notebook will continue to use TensorFlow 1.x via the <code>%tensorflow_version 1.x</code> magic:\n",
              "<a href=\"https://colab.research.google.com/notebooks/tensorflow_version.ipynb\" target=\"_blank\">more info</a>.</p>\n"
            ],
            "text/plain": [
              "<IPython.core.display.HTML object>"
            ]
          },
          "metadata": {
            "tags": []
          }
        },
        {
          "output_type": "stream",
          "text": [
            "Using TensorFlow backend.\n"
          ],
          "name": "stderr"
        }
      ]
    },
    {
      "cell_type": "code",
      "metadata": {
        "id": "Z5PgEl_JkZDv",
        "colab_type": "code",
        "colab": {
          "base_uri": "https://localhost:8080/",
          "height": 173
        },
        "outputId": "a9d64b3f-4365-45e3-b41b-b2c6dc786e12"
      },
      "source": [
        "model = Sequential()\n",
        "model.add(LSTM(5, input_shape=(Xtrain.shape[1], Xtrain.shape[2])))\n",
        "# model.add(Dropout(0.2))\n",
        "model.add(Dense(ytrain.shape[1]))\n",
        "model.compile(loss='mean_squared_error', optimizer='adam')"
      ],
      "execution_count": 17,
      "outputs": [
        {
          "output_type": "stream",
          "text": [
            "WARNING:tensorflow:From /usr/local/lib/python3.6/dist-packages/keras/backend/tensorflow_backend.py:66: The name tf.get_default_graph is deprecated. Please use tf.compat.v1.get_default_graph instead.\n",
            "\n",
            "WARNING:tensorflow:From /usr/local/lib/python3.6/dist-packages/keras/backend/tensorflow_backend.py:541: The name tf.placeholder is deprecated. Please use tf.compat.v1.placeholder instead.\n",
            "\n",
            "WARNING:tensorflow:From /usr/local/lib/python3.6/dist-packages/keras/backend/tensorflow_backend.py:4432: The name tf.random_uniform is deprecated. Please use tf.random.uniform instead.\n",
            "\n",
            "WARNING:tensorflow:From /usr/local/lib/python3.6/dist-packages/keras/optimizers.py:793: The name tf.train.Optimizer is deprecated. Please use tf.compat.v1.train.Optimizer instead.\n",
            "\n"
          ],
          "name": "stdout"
        }
      ]
    },
    {
      "cell_type": "markdown",
      "metadata": {
        "id": "32lGSnF-kZDx",
        "colab_type": "text"
      },
      "source": [
        "### Train Model"
      ]
    },
    {
      "cell_type": "code",
      "metadata": {
        "id": "onpgjvL8kZDy",
        "colab_type": "code",
        "colab": {
          "base_uri": "https://localhost:8080/",
          "height": 1000
        },
        "outputId": "041fef5b-ae5a-4afb-c36a-43ab6e541a43"
      },
      "source": [
        "history = model.fit(Xtrain, ytrain, epochs=20, batch_size=32, validation_split=0.1,\n",
        "                     verbose=1, shuffle=False)\n"
      ],
      "execution_count": 18,
      "outputs": [
        {
          "output_type": "stream",
          "text": [
            "WARNING:tensorflow:From /usr/local/lib/python3.6/dist-packages/tensorflow_core/python/ops/math_grad.py:1424: where (from tensorflow.python.ops.array_ops) is deprecated and will be removed in a future version.\n",
            "Instructions for updating:\n",
            "Use tf.where in 2.0, which has the same broadcast rule as np.where\n",
            "WARNING:tensorflow:From /usr/local/lib/python3.6/dist-packages/keras/backend/tensorflow_backend.py:1033: The name tf.assign_add is deprecated. Please use tf.compat.v1.assign_add instead.\n",
            "\n",
            "WARNING:tensorflow:From /usr/local/lib/python3.6/dist-packages/keras/backend/tensorflow_backend.py:1020: The name tf.assign is deprecated. Please use tf.compat.v1.assign instead.\n",
            "\n",
            "WARNING:tensorflow:From /usr/local/lib/python3.6/dist-packages/keras/backend/tensorflow_backend.py:3005: The name tf.Session is deprecated. Please use tf.compat.v1.Session instead.\n",
            "\n",
            "Train on 1264 samples, validate on 141 samples\n",
            "Epoch 1/20\n",
            "WARNING:tensorflow:From /usr/local/lib/python3.6/dist-packages/keras/backend/tensorflow_backend.py:190: The name tf.get_default_session is deprecated. Please use tf.compat.v1.get_default_session instead.\n",
            "\n",
            "WARNING:tensorflow:From /usr/local/lib/python3.6/dist-packages/keras/backend/tensorflow_backend.py:197: The name tf.ConfigProto is deprecated. Please use tf.compat.v1.ConfigProto instead.\n",
            "\n",
            "WARNING:tensorflow:From /usr/local/lib/python3.6/dist-packages/keras/backend/tensorflow_backend.py:207: The name tf.global_variables is deprecated. Please use tf.compat.v1.global_variables instead.\n",
            "\n",
            "WARNING:tensorflow:From /usr/local/lib/python3.6/dist-packages/keras/backend/tensorflow_backend.py:216: The name tf.is_variable_initialized is deprecated. Please use tf.compat.v1.is_variable_initialized instead.\n",
            "\n",
            "WARNING:tensorflow:From /usr/local/lib/python3.6/dist-packages/keras/backend/tensorflow_backend.py:223: The name tf.variables_initializer is deprecated. Please use tf.compat.v1.variables_initializer instead.\n",
            "\n",
            "1264/1264 [==============================] - 2s 1ms/step - loss: 0.8203 - val_loss: 2.8811\n",
            "Epoch 2/20\n",
            "1264/1264 [==============================] - 0s 351us/step - loss: 0.8023 - val_loss: 2.8757\n",
            "Epoch 3/20\n",
            "1264/1264 [==============================] - 0s 318us/step - loss: 0.7893 - val_loss: 2.8722\n",
            "Epoch 4/20\n",
            "1264/1264 [==============================] - 0s 349us/step - loss: 0.7774 - val_loss: 2.8694\n",
            "Epoch 5/20\n",
            "1264/1264 [==============================] - 0s 323us/step - loss: 0.7658 - val_loss: 2.8652\n",
            "Epoch 6/20\n",
            "1264/1264 [==============================] - 0s 352us/step - loss: 0.7538 - val_loss: 2.8568\n",
            "Epoch 7/20\n",
            "1264/1264 [==============================] - 1s 430us/step - loss: 0.7411 - val_loss: 2.8446\n",
            "Epoch 8/20\n",
            "1264/1264 [==============================] - 0s 372us/step - loss: 0.7278 - val_loss: 2.8299\n",
            "Epoch 9/20\n",
            "1264/1264 [==============================] - 0s 316us/step - loss: 0.7140 - val_loss: 2.8133\n",
            "Epoch 10/20\n",
            "1264/1264 [==============================] - 0s 320us/step - loss: 0.7006 - val_loss: 2.7960\n",
            "Epoch 11/20\n",
            "1264/1264 [==============================] - 1s 403us/step - loss: 0.6884 - val_loss: 2.7789\n",
            "Epoch 12/20\n",
            "1264/1264 [==============================] - 1s 414us/step - loss: 0.6781 - val_loss: 2.7639\n",
            "Epoch 13/20\n",
            "1264/1264 [==============================] - 0s 388us/step - loss: 0.6697 - val_loss: 2.7513\n",
            "Epoch 14/20\n",
            "1264/1264 [==============================] - 1s 418us/step - loss: 0.6631 - val_loss: 2.7402\n",
            "Epoch 15/20\n",
            "1264/1264 [==============================] - 0s 371us/step - loss: 0.6579 - val_loss: 2.7307\n",
            "Epoch 16/20\n",
            "1264/1264 [==============================] - 0s 367us/step - loss: 0.6537 - val_loss: 2.7227\n",
            "Epoch 17/20\n",
            "1264/1264 [==============================] - 0s 324us/step - loss: 0.6503 - val_loss: 2.7160\n",
            "Epoch 18/20\n",
            "1264/1264 [==============================] - 1s 437us/step - loss: 0.6474 - val_loss: 2.7105\n",
            "Epoch 19/20\n",
            "1264/1264 [==============================] - 0s 394us/step - loss: 0.6450 - val_loss: 2.7060\n",
            "Epoch 20/20\n",
            "1264/1264 [==============================] - 1s 426us/step - loss: 0.6429 - val_loss: 2.7021\n"
          ],
          "name": "stdout"
        }
      ]
    },
    {
      "cell_type": "markdown",
      "metadata": {
        "id": "1b80gmdtkZD1",
        "colab_type": "text"
      },
      "source": [
        "### Plot Train loss"
      ]
    },
    {
      "cell_type": "code",
      "metadata": {
        "id": "VFc__meWkZD1",
        "colab_type": "code",
        "colab": {
          "base_uri": "https://localhost:8080/",
          "height": 513
        },
        "outputId": "0fe569f7-2aa4-474e-cf88-1a96d648449e"
      },
      "source": [
        "from matplotlib import pyplot as plt\n",
        "%matplotlib inline\n",
        "\n",
        "plt.figure(figsize=(12,8))\n",
        "plt.plot(history.epoch,history.history['loss'])\n",
        "plt.plot(history.epoch,history.history['val_loss'])\n",
        "plt.title('model loss')\n",
        "plt.ylabel('loss')\n",
        "plt.xlabel('epoch')\n",
        "plt.legend(['train', 'test'], loc='upper right')\n",
        "plt.show()"
      ],
      "execution_count": 19,
      "outputs": [
        {
          "output_type": "display_data",
          "data": {
            "image/png": "[encoded data removed]",
            "text/plain": [
              "<Figure size 864x576 with 1 Axes>"
            ]
          },
          "metadata": {
            "tags": []
          }
        }
      ]
    },
    {
      "cell_type": "markdown",
      "metadata": {
        "id": "Psy5V_4skZD4",
        "colab_type": "text"
      },
      "source": [
        "### Evaluate model Performance "
      ]
    },
    {
      "cell_type": "code",
      "metadata": {
        "id": "Gl-QjeFrkZD4",
        "colab_type": "code",
        "colab": {}
      },
      "source": [
        "yhat = model.predict(Xtest)\n",
        "mse = mean_squared_error(yhat,ytest)"
      ],
      "execution_count": 0,
      "outputs": []
    },
    {
      "cell_type": "code",
      "metadata": {
        "id": "Po2l22kzkZD7",
        "colab_type": "code",
        "colab": {
          "base_uri": "https://localhost:8080/",
          "height": 34
        },
        "outputId": "dbb7eb0a-ff87-4526-e784-22913bdb904a"
      },
      "source": [
        "print('MSE : {}'.format(mse))"
      ],
      "execution_count": 21,
      "outputs": [
        {
          "output_type": "stream",
          "text": [
            "MSE : 0.6045193304411219\n"
          ],
          "name": "stdout"
        }
      ]
    },
    {
      "cell_type": "code",
      "metadata": {
        "id": "AVT4gkbUkZD-",
        "colab_type": "code",
        "colab": {}
      },
      "source": [
        ""
      ],
      "execution_count": 0,
      "outputs": []
    }
  ]
}
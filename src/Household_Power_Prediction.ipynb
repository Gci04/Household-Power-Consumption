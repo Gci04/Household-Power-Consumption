{
 "cells": [
  {
   "cell_type": "markdown",
   "metadata": {
    "colab_type": "text",
    "id": "ireUoEJVkZCf"
   },
   "source": [
    "# <center>Household Power Consumption Prediction<center/>"
   ]
  },
  {
   "cell_type": "markdown",
   "metadata": {
    "colab_type": "text",
    "id": "L4pv3pNZkZCh"
   },
   "source": [
    "### Description \n",
    "This notebook implements a an sequential model from Household Power Consumption Prediction. Model input are measurements of electric power consumption. Data was gathered from one household with a one-minute sampling rate over a period of almost 4 years.\n",
    "\n",
    "#### Data Set Information:\n",
    "\n",
    "The dataset contains 2075259 samples/measurements gathered between December 2006 and November 2010 (47 months).<br>\n",
    "**NOTE**: \n",
    "> (global_active_power*1000/60 - sub_metering_1 - sub_metering_2 - sub_metering_3) represents the active energy consumed every minute (in watt hour) in the household by electrical equipment not measured in sub-meterings 1, 2 and 3.\n",
    "\n",
    "> The dataset contains some missing values in the measurements (nearly 1,25% of the rows). All calendar timestamps are present in the dataset but for some timestamps, the measurement values are missing: a missing value is represented by the absence of value between two consecutive semi-colon attribute separators. For instance, the dataset shows missing values on April 28, 2007.\n",
    "\n",
    "**Data Attributes Information:** \n",
    "\n",
    "1. date: Date in format dd/mm/yyyy\n",
    "\n",
    "2. time: time in format hh:mm:ss\n",
    "\n",
    "3. global_active_power: household global minute-averaged active power (in kilowatt)\n",
    "\n",
    "4. global_reactive_power: household global minute-averaged reactive power (in kilowatt)\n",
    "\n",
    "5. voltage: minute-averaged voltage (in volt)\n",
    "\n",
    "6. global_intensity: household global minute-averaged current intensity (in ampere)\n",
    "\n",
    "7. sub_metering_1: energy sub-metering No. 1 (in watt-hour of active energy). It corresponds to the kitchen, containing mainly a dishwasher, an oven and a microwave (hot plates are not electric but gas powered).\n",
    "\n",
    "8. sub_metering_2: energy sub-metering No. 2 (in watt-hour of active energy). It corresponds to the laundry room, containing a washing-machine, a tumble-drier, a refrigerator and a light.\n",
    "\n",
    "9. sub_metering_3: energy sub-metering No. 3 (in watt-hour of active energy). It corresponds to an electric water-heater and an air-conditioner. <br>\n",
    "\n",
    "#### Task : \n",
    "> Predict the power consumption together with upper and lower interval"
   ]
  },
  {
   "cell_type": "markdown",
   "metadata": {
    "colab_type": "text",
    "id": "8Zvape09kZCi"
   },
   "source": [
    "### Import necessary libraries "
   ]
  },
  {
   "cell_type": "code",
   "execution_count": 1,
   "metadata": {
    "colab": {},
    "colab_type": "code",
    "id": "NPwyHooekZCl"
   },
   "outputs": [],
   "source": [
    "import pandas as pd\n",
    "import numpy as np\n",
    "from matplotlib import pyplot as plt\n",
    "import seaborn as sns\n",
    "sns.set_style(\"darkgrid\")\n",
    "from sklearn.preprocessing import StandardScaler, MinMaxScaler, RobustScaler\n",
    "from sklearn.metrics import mean_squared_error\n",
    "from sklearn.ensemble import GradientBoostingRegressor\n",
    "\n",
    "from catboost import CatBoostRegressor"
   ]
  },
  {
   "cell_type": "markdown",
   "metadata": {
    "colab_type": "text",
    "id": "0c9np2jWkZCs"
   },
   "source": [
    "### Read data"
   ]
  },
  {
   "cell_type": "code",
   "execution_count": 2,
   "metadata": {
    "colab": {},
    "colab_type": "code",
    "id": "5LHzd4MEkZCu"
   },
   "outputs": [],
   "source": [
    "data_path = \"../Dataset/household_power_consumption_data.zip\"\n",
    "df = pd.read_csv(data_path, sep=';',parse_dates={'dt' : ['Date', 'Time']}, infer_datetime_format=True,\n",
    "                 low_memory=False, na_values=['nan','?'],index_col='dt')\n",
    "df.drop([\"Global_active_power\",\"Global_reactive_power\",\"Voltage\",\"Global_intensity\"],axis=1,inplace=True)"
   ]
  },
  {
   "cell_type": "markdown",
   "metadata": {
    "colab_type": "text",
    "id": "brZk7BhIkZDC"
   },
   "source": [
    "### Preprocess Data\n",
    "Fill NaN values by average, extract features from timestamps & group the data"
   ]
  },
  {
   "cell_type": "code",
   "execution_count": 3,
   "metadata": {},
   "outputs": [
    {
     "data": {
      "text/html": [
       "<div>\n",
       "<style scoped>\n",
       "    .dataframe tbody tr th:only-of-type {\n",
       "        vertical-align: middle;\n",
       "    }\n",
       "\n",
       "    .dataframe tbody tr th {\n",
       "        vertical-align: top;\n",
       "    }\n",
       "\n",
       "    .dataframe thead th {\n",
       "        text-align: right;\n",
       "    }\n",
       "</style>\n",
       "<table border=\"1\" class=\"dataframe\">\n",
       "  <thead>\n",
       "    <tr style=\"text-align: right;\">\n",
       "      <th></th>\n",
       "      <th>Sub_metering_1</th>\n",
       "      <th>Sub_metering_2</th>\n",
       "      <th>Sub_metering_3</th>\n",
       "      <th>consumption</th>\n",
       "    </tr>\n",
       "    <tr>\n",
       "      <th>dt</th>\n",
       "      <th></th>\n",
       "      <th></th>\n",
       "      <th></th>\n",
       "      <th></th>\n",
       "    </tr>\n",
       "  </thead>\n",
       "  <tbody>\n",
       "    <tr>\n",
       "      <th>2006-12-16 17:24:00</th>\n",
       "      <td>0.0</td>\n",
       "      <td>1.0</td>\n",
       "      <td>17.0</td>\n",
       "      <td>18.0</td>\n",
       "    </tr>\n",
       "    <tr>\n",
       "      <th>2006-12-16 17:25:00</th>\n",
       "      <td>0.0</td>\n",
       "      <td>1.0</td>\n",
       "      <td>16.0</td>\n",
       "      <td>17.0</td>\n",
       "    </tr>\n",
       "    <tr>\n",
       "      <th>2006-12-16 17:26:00</th>\n",
       "      <td>0.0</td>\n",
       "      <td>2.0</td>\n",
       "      <td>17.0</td>\n",
       "      <td>19.0</td>\n",
       "    </tr>\n",
       "    <tr>\n",
       "      <th>2006-12-16 17:27:00</th>\n",
       "      <td>0.0</td>\n",
       "      <td>1.0</td>\n",
       "      <td>17.0</td>\n",
       "      <td>18.0</td>\n",
       "    </tr>\n",
       "    <tr>\n",
       "      <th>2006-12-16 17:28:00</th>\n",
       "      <td>0.0</td>\n",
       "      <td>1.0</td>\n",
       "      <td>17.0</td>\n",
       "      <td>18.0</td>\n",
       "    </tr>\n",
       "  </tbody>\n",
       "</table>\n",
       "</div>"
      ],
      "text/plain": [
       "                     Sub_metering_1  Sub_metering_2  Sub_metering_3  \\\n",
       "dt                                                                    \n",
       "2006-12-16 17:24:00             0.0             1.0            17.0   \n",
       "2006-12-16 17:25:00             0.0             1.0            16.0   \n",
       "2006-12-16 17:26:00             0.0             2.0            17.0   \n",
       "2006-12-16 17:27:00             0.0             1.0            17.0   \n",
       "2006-12-16 17:28:00             0.0             1.0            17.0   \n",
       "\n",
       "                     consumption  \n",
       "dt                                \n",
       "2006-12-16 17:24:00         18.0  \n",
       "2006-12-16 17:25:00         17.0  \n",
       "2006-12-16 17:26:00         19.0  \n",
       "2006-12-16 17:27:00         18.0  \n",
       "2006-12-16 17:28:00         18.0  "
      ]
     },
     "execution_count": 3,
     "metadata": {},
     "output_type": "execute_result"
    }
   ],
   "source": [
    "#fill nan values with column average\n",
    "for j in range(0,3):\n",
    "    df.iloc[:,j]=df.iloc[:,j].fillna(df.iloc[:,j].mean())\n",
    "\n",
    "df[\"consumption\"] = df.iloc[:,:].sum(axis=1)\n",
    "df.head()"
   ]
  },
  {
   "cell_type": "code",
   "execution_count": 4,
   "metadata": {},
   "outputs": [],
   "source": [
    "#Extract features from timestamp \n",
    "def features_from_timestamp(t):\n",
    "    h = t.hour\n",
    "    year = t.year\n",
    "    idx = np.searchsorted(list(range(3,25,3)),h,side='right')\n",
    "    interval = np.arange(3,25,3)[idx]\n",
    "    if  interval == 24 : interval = 0\n",
    "    month = t.month\n",
    "    season = (month in [11,12,1,2,3]) * 1 # 0: summer, 1:  winter\n",
    "    return [h, t.day, t.dayofweek, month, interval, season, year]\n",
    "\n",
    "col = [\"hour\", \"day\", \"dayofweek\", \"month\" ,\"interval\" ,\"season\",\"year\"]"
   ]
  },
  {
   "cell_type": "code",
   "execution_count": 5,
   "metadata": {},
   "outputs": [
    {
     "data": {
      "text/html": [
       "<div>\n",
       "<style scoped>\n",
       "    .dataframe tbody tr th:only-of-type {\n",
       "        vertical-align: middle;\n",
       "    }\n",
       "\n",
       "    .dataframe tbody tr th {\n",
       "        vertical-align: top;\n",
       "    }\n",
       "\n",
       "    .dataframe thead th {\n",
       "        text-align: right;\n",
       "    }\n",
       "</style>\n",
       "<table border=\"1\" class=\"dataframe\">\n",
       "  <thead>\n",
       "    <tr style=\"text-align: right;\">\n",
       "      <th></th>\n",
       "      <th>consumption</th>\n",
       "      <th>hour</th>\n",
       "      <th>day</th>\n",
       "      <th>dayofweek</th>\n",
       "      <th>month</th>\n",
       "      <th>interval</th>\n",
       "      <th>season</th>\n",
       "      <th>year</th>\n",
       "    </tr>\n",
       "    <tr>\n",
       "      <th>dt</th>\n",
       "      <th></th>\n",
       "      <th></th>\n",
       "      <th></th>\n",
       "      <th></th>\n",
       "      <th></th>\n",
       "      <th></th>\n",
       "      <th></th>\n",
       "      <th></th>\n",
       "    </tr>\n",
       "  </thead>\n",
       "  <tbody>\n",
       "    <tr>\n",
       "      <th>2006-12-16 18:00:00</th>\n",
       "      <td>10.433333</td>\n",
       "      <td>18</td>\n",
       "      <td>16</td>\n",
       "      <td>5</td>\n",
       "      <td>12</td>\n",
       "      <td>21</td>\n",
       "      <td>1</td>\n",
       "      <td>2006</td>\n",
       "    </tr>\n",
       "    <tr>\n",
       "      <th>2006-12-16 19:00:00</th>\n",
       "      <td>23.583333</td>\n",
       "      <td>19</td>\n",
       "      <td>16</td>\n",
       "      <td>5</td>\n",
       "      <td>12</td>\n",
       "      <td>21</td>\n",
       "      <td>1</td>\n",
       "      <td>2006</td>\n",
       "    </tr>\n",
       "    <tr>\n",
       "      <th>2006-12-16 20:00:00</th>\n",
       "      <td>18.116667</td>\n",
       "      <td>20</td>\n",
       "      <td>16</td>\n",
       "      <td>5</td>\n",
       "      <td>12</td>\n",
       "      <td>21</td>\n",
       "      <td>1</td>\n",
       "      <td>2006</td>\n",
       "    </tr>\n",
       "    <tr>\n",
       "      <th>2006-12-16 21:00:00</th>\n",
       "      <td>16.783333</td>\n",
       "      <td>21</td>\n",
       "      <td>16</td>\n",
       "      <td>5</td>\n",
       "      <td>12</td>\n",
       "      <td>0</td>\n",
       "      <td>1</td>\n",
       "      <td>2006</td>\n",
       "    </tr>\n",
       "    <tr>\n",
       "      <th>2006-12-16 22:00:00</th>\n",
       "      <td>17.633333</td>\n",
       "      <td>22</td>\n",
       "      <td>16</td>\n",
       "      <td>5</td>\n",
       "      <td>12</td>\n",
       "      <td>0</td>\n",
       "      <td>1</td>\n",
       "      <td>2006</td>\n",
       "    </tr>\n",
       "  </tbody>\n",
       "</table>\n",
       "</div>"
      ],
      "text/plain": [
       "                     consumption  hour  day  dayofweek  month  interval  \\\n",
       "dt                                                                        \n",
       "2006-12-16 18:00:00    10.433333    18   16          5     12        21   \n",
       "2006-12-16 19:00:00    23.583333    19   16          5     12        21   \n",
       "2006-12-16 20:00:00    18.116667    20   16          5     12        21   \n",
       "2006-12-16 21:00:00    16.783333    21   16          5     12         0   \n",
       "2006-12-16 22:00:00    17.633333    22   16          5     12         0   \n",
       "\n",
       "                     season  year  \n",
       "dt                                 \n",
       "2006-12-16 18:00:00       1  2006  \n",
       "2006-12-16 19:00:00       1  2006  \n",
       "2006-12-16 20:00:00       1  2006  \n",
       "2006-12-16 21:00:00       1  2006  \n",
       "2006-12-16 22:00:00       1  2006  "
      ]
     },
     "execution_count": 5,
     "metadata": {},
     "output_type": "execute_result"
    }
   ],
   "source": [
    "grouped = df[\"consumption\"].groupby(pd.Grouper(freq='1h', base=0, label='right')).sum()\n",
    "data = pd.DataFrame(grouped/60)\n",
    "\n",
    "# Generate aditional features from timestamp then append to exixting data\n",
    "additional_featues = pd.DataFrame(data = [features_from_timestamp(i) for i in data.index ],columns=col).set_index(data.index)\n",
    "data = data.merge(additional_featues,on=\"dt\")\n",
    "data.sort_index(inplace=True) #make sure data is sorted by date\n",
    "data.head()"
   ]
  },
  {
   "cell_type": "markdown",
   "metadata": {},
   "source": [
    "### Split data to train and test\n",
    "Take one year as test sample (2010) and 3 years as trainning set (2006 - 2009)"
   ]
  },
  {
   "cell_type": "code",
   "execution_count": 6,
   "metadata": {},
   "outputs": [],
   "source": [
    "#Split data to train and test\n",
    "xtrain = data.loc[\"2006\":\"2010\"]\n",
    "ytrain = xtrain.pop(\"consumption\")\n",
    "\n",
    "xtest = data.loc[\"2010\":]\n",
    "ytest = xtest.pop(\"consumption\")"
   ]
  },
  {
   "cell_type": "markdown",
   "metadata": {},
   "source": [
    "### Define models & Train models\n",
    "Define and set modes training paramaters"
   ]
  },
  {
   "cell_type": "markdown",
   "metadata": {},
   "source": [
    "#### Use sklearn Gradient Boosting Regressor"
   ]
  },
  {
   "cell_type": "code",
   "execution_count": 7,
   "metadata": {},
   "outputs": [],
   "source": [
    "LOWER_ALPHA = 0.10\n",
    "UPPER_ALPHA = 0.90\n",
    "\n",
    "N_ESTIMATORS = 100\n",
    "MAX_DEPTH = 5\n",
    "\n",
    "# Each model has to be separate\n",
    "lower_model = GradientBoostingRegressor(loss=\"quantile\", alpha=LOWER_ALPHA, n_estimators=N_ESTIMATORS, max_depth=MAX_DEPTH)\n",
    "# The mid model will use the default loss\n",
    "mid_model = GradientBoostingRegressor(loss=\"ls\", n_estimators=N_ESTIMATORS, max_depth=MAX_DEPTH)\n",
    "upper_model = GradientBoostingRegressor(loss=\"quantile\", alpha=UPPER_ALPHA, n_estimators=N_ESTIMATORS, max_depth=MAX_DEPTH)\n",
    "\n",
    "\n",
    "#Train Models\n",
    "_ = lower_model.fit(xtrain, ytrain)\n",
    "_ = mid_model.fit(xtrain, ytrain)\n",
    "_ = upper_model.fit(xtrain, ytrain)"
   ]
  },
  {
   "cell_type": "markdown",
   "metadata": {},
   "source": [
    "#### Use Catboost "
   ]
  },
  {
   "cell_type": "code",
   "execution_count": 8,
   "metadata": {},
   "outputs": [],
   "source": [
    "# N_ESTIMATORS = 100\n",
    "# MAX_DEPTH = 5\n",
    "\n",
    "# lower_model_catb = CatBoostRegressor(loss_function='Quantile:alpha=0.10', n_estimators=N_ESTIMATORS, max_depth=MAX_DEPTH)\n",
    "# mid_model_catb = CatBoostRegressor(loss_function='Quantile:alpha=0.5', n_estimators=N_ESTIMATORS, max_depth=MAX_DEPTH)\n",
    "# upper_model_catb = CatBoostRegressor(loss_function='Quantile:alpha=0.90', n_estimators=N_ESTIMATORS, max_depth=MAX_DEPTH)\n",
    "\n",
    "# #Train Models\n",
    "# lower_model_catb.fit(xtrain, ytrain,verbose =0)\n",
    "# mid_model_catb.fit(xtrain, ytrain, verbose =0)\n",
    "# upper_model_catb.fit(xtrain, ytrain, verbose =0)"
   ]
  },
  {
   "cell_type": "markdown",
   "metadata": {},
   "source": [
    "### Predictions"
   ]
  },
  {
   "cell_type": "code",
   "execution_count": 9,
   "metadata": {},
   "outputs": [
    {
     "data": {
      "text/html": [
       "<div>\n",
       "<style scoped>\n",
       "    .dataframe tbody tr th:only-of-type {\n",
       "        vertical-align: middle;\n",
       "    }\n",
       "\n",
       "    .dataframe tbody tr th {\n",
       "        vertical-align: top;\n",
       "    }\n",
       "\n",
       "    .dataframe thead th {\n",
       "        text-align: right;\n",
       "    }\n",
       "</style>\n",
       "<table border=\"1\" class=\"dataframe\">\n",
       "  <thead>\n",
       "    <tr style=\"text-align: right;\">\n",
       "      <th></th>\n",
       "      <th>consumption</th>\n",
       "      <th>lower</th>\n",
       "      <th>mid</th>\n",
       "      <th>upper</th>\n",
       "    </tr>\n",
       "    <tr>\n",
       "      <th>dt</th>\n",
       "      <th></th>\n",
       "      <th></th>\n",
       "      <th></th>\n",
       "      <th></th>\n",
       "    </tr>\n",
       "  </thead>\n",
       "  <tbody>\n",
       "    <tr>\n",
       "      <th>2010-11-26 18:00:00</th>\n",
       "      <td>12.866667</td>\n",
       "      <td>0.237345</td>\n",
       "      <td>8.202809</td>\n",
       "      <td>17.179935</td>\n",
       "    </tr>\n",
       "    <tr>\n",
       "      <th>2010-11-26 19:00:00</th>\n",
       "      <td>0.000000</td>\n",
       "      <td>0.136176</td>\n",
       "      <td>8.352726</td>\n",
       "      <td>17.424431</td>\n",
       "    </tr>\n",
       "    <tr>\n",
       "      <th>2010-11-26 20:00:00</th>\n",
       "      <td>0.066667</td>\n",
       "      <td>0.166339</td>\n",
       "      <td>9.052072</td>\n",
       "      <td>20.621429</td>\n",
       "    </tr>\n",
       "    <tr>\n",
       "      <th>2010-11-26 21:00:00</th>\n",
       "      <td>1.066667</td>\n",
       "      <td>0.271902</td>\n",
       "      <td>10.455235</td>\n",
       "      <td>22.490176</td>\n",
       "    </tr>\n",
       "    <tr>\n",
       "      <th>2010-11-26 22:00:00</th>\n",
       "      <td>0.000000</td>\n",
       "      <td>0.170234</td>\n",
       "      <td>9.758888</td>\n",
       "      <td>20.693775</td>\n",
       "    </tr>\n",
       "  </tbody>\n",
       "</table>\n",
       "</div>"
      ],
      "text/plain": [
       "                     consumption     lower        mid      upper\n",
       "dt                                                              \n",
       "2010-11-26 18:00:00    12.866667  0.237345   8.202809  17.179935\n",
       "2010-11-26 19:00:00     0.000000  0.136176   8.352726  17.424431\n",
       "2010-11-26 20:00:00     0.066667  0.166339   9.052072  20.621429\n",
       "2010-11-26 21:00:00     1.066667  0.271902  10.455235  22.490176\n",
       "2010-11-26 22:00:00     0.000000  0.170234   9.758888  20.693775"
      ]
     },
     "execution_count": 9,
     "metadata": {},
     "output_type": "execute_result"
    }
   ],
   "source": [
    "predictions = pd.DataFrame(ytest)\n",
    "predictions['lower'] = lower_model.predict(xtest)\n",
    "predictions['mid'] = mid_model.predict(xtest)\n",
    "predictions['upper'] = upper_model.predict(xtest)\n",
    "\n",
    "assert (predictions['upper'] > predictions['lower']).all()\n",
    "\n",
    "predictions.tail()"
   ]
  },
  {
   "cell_type": "markdown",
   "metadata": {},
   "source": [
    "### Calculate model Errors"
   ]
  },
  {
   "cell_type": "code",
   "execution_count": 10,
   "metadata": {},
   "outputs": [],
   "source": [
    "def calculate_error(predictions):\n",
    "    predictions['absolute_error_lower'] = (predictions['lower'] - predictions[\"consumption\"]).abs()\n",
    "    predictions['absolute_error_upper'] = (predictions['upper'] - predictions[\"consumption\"]).abs()\n",
    "    \n",
    "    predictions['absolute_error_interval'] = (predictions['absolute_error_lower'] + predictions['absolute_error_upper']) / 2\n",
    "    predictions['absolute_error_mid'] = (predictions['mid'] - predictions[\"consumption\"]).abs()\n",
    "    \n",
    "    predictions['in_bounds'] = predictions[\"consumption\"].between(left=predictions['lower'], right=predictions['upper'])\n",
    "    "
   ]
  },
  {
   "cell_type": "code",
   "execution_count": 11,
   "metadata": {},
   "outputs": [
    {
     "data": {
      "text/html": [
       "<div>\n",
       "<style scoped>\n",
       "    .dataframe tbody tr th:only-of-type {\n",
       "        vertical-align: middle;\n",
       "    }\n",
       "\n",
       "    .dataframe tbody tr th {\n",
       "        vertical-align: top;\n",
       "    }\n",
       "\n",
       "    .dataframe thead th {\n",
       "        text-align: right;\n",
       "    }\n",
       "</style>\n",
       "<table border=\"1\" class=\"dataframe\">\n",
       "  <thead>\n",
       "    <tr style=\"text-align: right;\">\n",
       "      <th></th>\n",
       "      <th>absolute_error_lower</th>\n",
       "      <th>absolute_error_upper</th>\n",
       "      <th>absolute_error_interval</th>\n",
       "      <th>absolute_error_mid</th>\n",
       "    </tr>\n",
       "  </thead>\n",
       "  <tbody>\n",
       "    <tr>\n",
       "      <th>count</th>\n",
       "      <td>7919.000000</td>\n",
       "      <td>7919.000000</td>\n",
       "      <td>7919.000000</td>\n",
       "      <td>7919.000000</td>\n",
       "    </tr>\n",
       "    <tr>\n",
       "      <th>mean</th>\n",
       "      <td>8.152071</td>\n",
       "      <td>10.302705</td>\n",
       "      <td>9.227388</td>\n",
       "      <td>5.527419</td>\n",
       "    </tr>\n",
       "    <tr>\n",
       "      <th>std</th>\n",
       "      <td>9.427422</td>\n",
       "      <td>6.914497</td>\n",
       "      <td>4.543078</td>\n",
       "      <td>5.139411</td>\n",
       "    </tr>\n",
       "    <tr>\n",
       "      <th>min</th>\n",
       "      <td>0.000011</td>\n",
       "      <td>0.000295</td>\n",
       "      <td>1.701356</td>\n",
       "      <td>0.000813</td>\n",
       "    </tr>\n",
       "    <tr>\n",
       "      <th>25%</th>\n",
       "      <td>0.539495</td>\n",
       "      <td>5.379155</td>\n",
       "      <td>5.577411</td>\n",
       "      <td>1.912699</td>\n",
       "    </tr>\n",
       "    <tr>\n",
       "      <th>50%</th>\n",
       "      <td>3.848571</td>\n",
       "      <td>8.757068</td>\n",
       "      <td>9.213745</td>\n",
       "      <td>4.019383</td>\n",
       "    </tr>\n",
       "    <tr>\n",
       "      <th>75%</th>\n",
       "      <td>16.734875</td>\n",
       "      <td>15.099393</td>\n",
       "      <td>11.691505</td>\n",
       "      <td>7.827279</td>\n",
       "    </tr>\n",
       "    <tr>\n",
       "      <th>max</th>\n",
       "      <td>70.327440</td>\n",
       "      <td>38.356461</td>\n",
       "      <td>52.558623</td>\n",
       "      <td>50.813839</td>\n",
       "    </tr>\n",
       "  </tbody>\n",
       "</table>\n",
       "</div>"
      ],
      "text/plain": [
       "       absolute_error_lower  absolute_error_upper  absolute_error_interval  \\\n",
       "count           7919.000000           7919.000000              7919.000000   \n",
       "mean               8.152071             10.302705                 9.227388   \n",
       "std                9.427422              6.914497                 4.543078   \n",
       "min                0.000011              0.000295                 1.701356   \n",
       "25%                0.539495              5.379155                 5.577411   \n",
       "50%                3.848571              8.757068                 9.213745   \n",
       "75%               16.734875             15.099393                11.691505   \n",
       "max               70.327440             38.356461                52.558623   \n",
       "\n",
       "       absolute_error_mid  \n",
       "count         7919.000000  \n",
       "mean             5.527419  \n",
       "std              5.139411  \n",
       "min              0.000813  \n",
       "25%              1.912699  \n",
       "50%              4.019383  \n",
       "75%              7.827279  \n",
       "max             50.813839  "
      ]
     },
     "execution_count": 11,
     "metadata": {},
     "output_type": "execute_result"
    }
   ],
   "source": [
    "calculate_error(predictions)\n",
    "metrics = predictions[['absolute_error_lower', 'absolute_error_upper', 'absolute_error_interval', 'absolute_error_mid', 'in_bounds']].copy()\n",
    "metrics.describe()"
   ]
  },
  {
   "cell_type": "code",
   "execution_count": 12,
   "metadata": {},
   "outputs": [
    {
     "data": {
      "text/html": [
       "<div>\n",
       "<style scoped>\n",
       "    .dataframe tbody tr th:only-of-type {\n",
       "        vertical-align: middle;\n",
       "    }\n",
       "\n",
       "    .dataframe tbody tr th {\n",
       "        vertical-align: top;\n",
       "    }\n",
       "\n",
       "    .dataframe thead th {\n",
       "        text-align: right;\n",
       "    }\n",
       "</style>\n",
       "<table border=\"1\" class=\"dataframe\">\n",
       "  <thead>\n",
       "    <tr style=\"text-align: right;\">\n",
       "      <th></th>\n",
       "      <th>consumption</th>\n",
       "      <th>lower</th>\n",
       "      <th>mid</th>\n",
       "      <th>upper</th>\n",
       "      <th>absolute_error_lower</th>\n",
       "      <th>absolute_error_upper</th>\n",
       "      <th>absolute_error_interval</th>\n",
       "      <th>absolute_error_mid</th>\n",
       "      <th>in_bounds</th>\n",
       "    </tr>\n",
       "    <tr>\n",
       "      <th>dt</th>\n",
       "      <th></th>\n",
       "      <th></th>\n",
       "      <th></th>\n",
       "      <th></th>\n",
       "      <th></th>\n",
       "      <th></th>\n",
       "      <th></th>\n",
       "      <th></th>\n",
       "      <th></th>\n",
       "    </tr>\n",
       "  </thead>\n",
       "  <tbody>\n",
       "    <tr>\n",
       "      <th>2010-01-01 00:00:00</th>\n",
       "      <td>18.316667</td>\n",
       "      <td>0.679920</td>\n",
       "      <td>9.683163</td>\n",
       "      <td>18.810314</td>\n",
       "      <td>17.636747</td>\n",
       "      <td>0.493647</td>\n",
       "      <td>9.065197</td>\n",
       "      <td>8.633504</td>\n",
       "      <td>True</td>\n",
       "    </tr>\n",
       "    <tr>\n",
       "      <th>2010-01-01 01:00:00</th>\n",
       "      <td>8.516667</td>\n",
       "      <td>0.679553</td>\n",
       "      <td>6.137491</td>\n",
       "      <td>18.431553</td>\n",
       "      <td>7.837114</td>\n",
       "      <td>9.914886</td>\n",
       "      <td>8.876000</td>\n",
       "      <td>2.379176</td>\n",
       "      <td>True</td>\n",
       "    </tr>\n",
       "    <tr>\n",
       "      <th>2010-01-01 02:00:00</th>\n",
       "      <td>1.450000</td>\n",
       "      <td>0.679553</td>\n",
       "      <td>2.831760</td>\n",
       "      <td>13.682513</td>\n",
       "      <td>0.770447</td>\n",
       "      <td>12.232513</td>\n",
       "      <td>6.501480</td>\n",
       "      <td>1.381760</td>\n",
       "      <td>True</td>\n",
       "    </tr>\n",
       "    <tr>\n",
       "      <th>2010-01-01 03:00:00</th>\n",
       "      <td>0.666667</td>\n",
       "      <td>0.679553</td>\n",
       "      <td>2.189347</td>\n",
       "      <td>10.581706</td>\n",
       "      <td>0.012886</td>\n",
       "      <td>9.915039</td>\n",
       "      <td>4.963963</td>\n",
       "      <td>1.522680</td>\n",
       "      <td>False</td>\n",
       "    </tr>\n",
       "    <tr>\n",
       "      <th>2010-01-01 04:00:00</th>\n",
       "      <td>1.383333</td>\n",
       "      <td>0.679553</td>\n",
       "      <td>1.576810</td>\n",
       "      <td>8.074886</td>\n",
       "      <td>0.703781</td>\n",
       "      <td>6.691553</td>\n",
       "      <td>3.697667</td>\n",
       "      <td>0.193476</td>\n",
       "      <td>True</td>\n",
       "    </tr>\n",
       "  </tbody>\n",
       "</table>\n",
       "</div>"
      ],
      "text/plain": [
       "                     consumption     lower       mid      upper  \\\n",
       "dt                                                                \n",
       "2010-01-01 00:00:00    18.316667  0.679920  9.683163  18.810314   \n",
       "2010-01-01 01:00:00     8.516667  0.679553  6.137491  18.431553   \n",
       "2010-01-01 02:00:00     1.450000  0.679553  2.831760  13.682513   \n",
       "2010-01-01 03:00:00     0.666667  0.679553  2.189347  10.581706   \n",
       "2010-01-01 04:00:00     1.383333  0.679553  1.576810   8.074886   \n",
       "\n",
       "                     absolute_error_lower  absolute_error_upper  \\\n",
       "dt                                                                \n",
       "2010-01-01 00:00:00             17.636747              0.493647   \n",
       "2010-01-01 01:00:00              7.837114              9.914886   \n",
       "2010-01-01 02:00:00              0.770447             12.232513   \n",
       "2010-01-01 03:00:00              0.012886              9.915039   \n",
       "2010-01-01 04:00:00              0.703781              6.691553   \n",
       "\n",
       "                     absolute_error_interval  absolute_error_mid  in_bounds  \n",
       "dt                                                                           \n",
       "2010-01-01 00:00:00                 9.065197            8.633504       True  \n",
       "2010-01-01 01:00:00                 8.876000            2.379176       True  \n",
       "2010-01-01 02:00:00                 6.501480            1.381760       True  \n",
       "2010-01-01 03:00:00                 4.963963            1.522680      False  \n",
       "2010-01-01 04:00:00                 3.697667            0.193476       True  "
      ]
     },
     "execution_count": 12,
     "metadata": {},
     "output_type": "execute_result"
    }
   ],
   "source": [
    "predictions.head()"
   ]
  },
  {
   "cell_type": "markdown",
   "metadata": {},
   "source": [
    "### Plot model predictions"
   ]
  },
  {
   "cell_type": "code",
   "execution_count": 13,
   "metadata": {},
   "outputs": [
    {
     "name": "stderr",
     "output_type": "stream",
     "text": [
      "/usr/local/lib/python3.6/site-packages/pandas/plotting/_matplotlib/converter.py:103: FutureWarning: Using an implicitly registered datetime converter for a matplotlib plotting method. The converter was registered by pandas on import. Future versions of pandas will require you to explicitly register matplotlib converters.\n",
      "\n",
      "To register the converters:\n",
      "\t>>> from pandas.plotting import register_matplotlib_converters\n",
      "\t>>> register_matplotlib_converters()\n",
      "  warnings.warn(msg, FutureWarning)\n"
     ]
    },
    {
     "data": {
      "image/png": "[encoded data removed]",
      "text/plain": [
       "<Figure size 1382.4x777.6 with 1 Axes>"
      ]
     },
     "metadata": {
      "needs_background": "light"
     },
     "output_type": "display_data"
    }
   ],
   "source": [
    "colors = plt.rcParams['axes.prop_cycle'].by_key()['color']\n",
    "\n",
    "fig = plt.figure(figsize=(19.20,10.80))\n",
    "# plt.plot(predictions.index[100:150], predictions.lower[100:150],label=\"Lower\",linewidth=3)\n",
    "plt.plot(predictions.index[:10], predictions.mid[:10],label=\"Prediction\",linewidth=3)\n",
    "# plt.plot(predictions.index[100:150], predictions.upper[100:150], label=\"Upper\",linewidth=3)\n",
    "plt.fill_between(predictions.index[:10], predictions.lower[:10], predictions.upper[:10],\n",
    "                 alpha=0.3, facecolor=colors[8],label='interval')\n",
    "plt.plot(predictions.index[:10], predictions.consumption[:10],label=\"actual\",linewidth=3)\n",
    "plt.legend(loc=0,prop={'size': 20})\n",
    "plt.ylabel(\"Energy Consumption (Wh)\",fontsize=20.0,fontweight=\"bold\")\n",
    "plt.xlabel(\"Time\",fontsize=20.0,fontweight=\"bold\")\n",
    "plt.tick_params(labelsize=15)\n",
    "plt.show()"
   ]
  },
  {
   "cell_type": "code",
   "execution_count": 14,
   "metadata": {},
   "outputs": [
    {
     "data": {
      "text/plain": [
       "True     0.80149\n",
       "False    0.19851\n",
       "Name: in_bounds, dtype: float64"
      ]
     },
     "execution_count": 14,
     "metadata": {},
     "output_type": "execute_result"
    }
   ],
   "source": [
    "metrics[\"in_bounds\"].value_counts(normalize= True)"
   ]
  },
  {
   "cell_type": "markdown",
   "metadata": {
    "colab_type": "text",
    "id": "Jiqyu_iMkZC0"
   },
   "source": [
    "### Exploratory Data Analysis (optional)"
   ]
  },
  {
   "cell_type": "code",
   "execution_count": 15,
   "metadata": {
    "colab": {},
    "colab_type": "code",
    "id": "joBfJXorkZC2"
   },
   "outputs": [],
   "source": [
    "# import pandas_profiling\n",
    "# profile = pandas_profiling.ProfileReport(df)\n",
    "# profile.to_file(\"report.html\")\n",
    "# profile"
   ]
  },
  {
   "cell_type": "code",
   "execution_count": 16,
   "metadata": {
    "colab": {},
    "colab_type": "code",
    "id": "ELtKTdW9kZC8"
   },
   "outputs": [],
   "source": [
    "# df.Global_active_power.resample('D').sum().plot(title='Global_active_power resampled over day for sum')\n",
    "# #df.Global_active_power.resample('D').mean().plot(title='Global_active_power resampled over day', color='red')\n",
    "# plt.tight_layout()\n",
    "# plt.show()"
   ]
  },
  {
   "cell_type": "markdown",
   "metadata": {},
   "source": [
    "### <center> Predictions of intervals with LSTM <center/>"
   ]
  }
 ],
 "metadata": {
  "accelerator": "GPU",
  "colab": {
   "name": "Household_Power_Prediction.ipynb",
   "provenance": [],
   "toc_visible": true
  },
  "kernelspec": {
   "display_name": "Python 3",
   "language": "python",
   "name": "python3"
  },
  "language_info": {
   "codemirror_mode": {
    "name": "ipython",
    "version": 3
   },
   "file_extension": ".py",
   "mimetype": "text/x-python",
   "name": "python",
   "nbconvert_exporter": "python",
   "pygments_lexer": "ipython3",
   "version": "3.6.5"
  }
 },
 "nbformat": 4,
 "nbformat_minor": 1
}
